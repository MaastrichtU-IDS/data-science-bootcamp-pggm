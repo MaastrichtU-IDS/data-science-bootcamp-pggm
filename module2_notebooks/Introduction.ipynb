{
 "cells": [
  {
   "cell_type": "markdown",
   "metadata": {
    "slideshow": {
     "slide_type": "slide"
    }
   },
   "source": [
    "<img src=\"../img/bootcamp.png\" >"
   ]
  },
  {
   "cell_type": "markdown",
   "metadata": {},
   "source": [
    "# Reporistory\n",
    "## github.com/MaastrichtU-IDS/data-science-bootcamp-pggm"
   ]
  },
  {
   "cell_type": "markdown",
   "metadata": {
    "slideshow": {
     "slide_type": "subslide"
    }
   },
   "source": [
    "## 2nd Module\n",
    "|  Notebook| Topic |\n",
    "| :---: | :---: |\n",
    "|1| Supervised Learning - Regression |\n",
    "|2| Supervised Learning - Classification | \n",
    "|3| Unsupervised Learning |"
   ]
  },
  {
   "cell_type": "markdown",
   "metadata": {
    "slideshow": {
     "slide_type": "slide"
    }
   },
   "source": [
    "# Intro to Python for Data Science\n",
    "## [Pedro Hernandez](https://www.maastrichtuniversity.nl/research/institutes/ids/people)"
   ]
  },
  {
   "cell_type": "markdown",
   "metadata": {
    "slideshow": {
     "slide_type": "fragment"
    }
   },
   "source": [
    "## Supervised Learning"
   ]
  },
  {
   "cell_type": "markdown",
   "metadata": {
    "slideshow": {
     "slide_type": "subslide"
    }
   },
   "source": [
    "![](../img/ai_term.png)"
   ]
  },
  {
   "cell_type": "markdown",
   "metadata": {
    "slideshow": {
     "slide_type": "subslide"
    }
   },
   "source": [
    "## How different is from programming\n",
    "![](../img/ML1.png)"
   ]
  },
  {
   "cell_type": "markdown",
   "metadata": {
    "slideshow": {
     "slide_type": "subslide"
    }
   },
   "source": [
    "## What this program exactly is?\n",
    "![](../img/wind.png)"
   ]
  },
  {
   "cell_type": "markdown",
   "metadata": {
    "slideshow": {
     "slide_type": "subslide"
    }
   },
   "source": [
    "## What is a model?"
   ]
  },
  {
   "cell_type": "markdown",
   "metadata": {
    "slideshow": {
     "slide_type": "slide"
    }
   },
   "source": [
    "## Types of Questions\n",
    "\n",
    "- Classification:\n",
    "    - Who is more likely to buy our product?\n",
    "    -  Is the borrower going to pay back?\n",
    "    -  Is a message spam?\n",
    "\n",
    "- Regression:\n",
    "    - What will be the temperature tomorrow?\n",
    "    - What is the projected net income for the next season?\n",
    "    - How much inventory should we have? \n",
    "\n",
    "\n"
   ]
  },
  {
   "cell_type": "markdown",
   "metadata": {
    "slideshow": {
     "slide_type": "subslide"
    }
   },
   "source": [
    "![](../img/brain.png)"
   ]
  },
  {
   "cell_type": "markdown",
   "metadata": {
    "slideshow": {
     "slide_type": "subslide"
    }
   },
   "source": [
    "## Types of Learning\n",
    "![](../img/ML.png)"
   ]
  },
  {
   "cell_type": "markdown",
   "metadata": {
    "slideshow": {
     "slide_type": "slide"
    }
   },
   "source": [
    "![](../img/ml_task.png)"
   ]
  },
  {
   "cell_type": "markdown",
   "metadata": {
    "slideshow": {
     "slide_type": "subslide"
    }
   },
   "source": [
    "## Types of Supervised Learning\n",
    "\n",
    "- Parametric\n",
    "    - Assume functional form of the data\n",
    "    - Estimate the parameters of assumed function\n",
    "    - Similar to standard statistical analysis\n",
    "\n",
    "- Non Parametric\n",
    "    - No explicit assumption\n",
    "    - Trace the data points directly\n"
   ]
  },
  {
   "cell_type": "markdown",
   "metadata": {
    "slideshow": {
     "slide_type": "slide"
    }
   },
   "source": [
    "## Types of Algorithm (1)\n",
    "\n",
    "- Regression\n",
    "    - Ordinary Least Squares\n",
    "    - Logistic Regression\n",
    "    - Multivariate Adaptive Regression Splines (MARS)\n",
    "    \n",
    "- Instance-based Methods\n",
    "    - k-Nearest Neighbour (kNN)\n",
    "    \n",
    "- Regularization Methods\n",
    "    - Ridge Regression\n",
    "    - LASSO\n",
    "    - Elastic Net\n",
    "    \n",
    "- Decision Tree\n",
    "    - Classification and Regression Tree (CART)\n",
    "    - Bootstrapped Aggregation (Bagging)\n",
    "    - Random Forest\n",
    "    - Gradient Boosting Machines (GBM)\n",
    "    \n"
   ]
  },
  {
   "cell_type": "markdown",
   "metadata": {
    "slideshow": {
     "slide_type": "subslide"
    }
   },
   "source": [
    "## Types of Algorithm (2)\n",
    "\n",
    "- Bayesian\n",
    "    - Naive Bayes\n",
    "    - Bayesian Belief Network (BBN)\n",
    "    \n",
    "- Kernel Methods\n",
    "    - Support Vector Machines (SVM)\n",
    "    - Linear Discriminate Analysis (LDA)\n",
    "    \n",
    "- Association Rule Learning\n",
    "    - Apriori algorithm\n",
    "    - Eclat algorithm\n",
    "    \n"
   ]
  },
  {
   "cell_type": "markdown",
   "metadata": {
    "slideshow": {
     "slide_type": "subslide"
    }
   },
   "source": [
    "## Types of Algorithm (3)\n",
    "\n",
    "\n",
    "- Neural Network and Deep Learning\n",
    "    - Feed Forward Neural Network (FFNN)\n",
    "    - Convolutional Neural Network (CNN)\n",
    "    - Recurrent Neural Network (RNN)\n",
    "    \n",
    "- Dimensionality Reduction\n",
    "    - Principal Component Analysis (PCA)\n",
    "    - Partial Least Squares Regression (PLS)\n",
    "    - Multidimensional Scaling (MDS)\n",
    "\n",
    "\n"
   ]
  },
  {
   "cell_type": "markdown",
   "metadata": {
    "slideshow": {
     "slide_type": "slide"
    }
   },
   "source": [
    "## General Process \n",
    "\n",
    "![](http://scientistcafe.com/book/Figure/GeneralProcessEN.png)\n",
    "\n"
   ]
  },
  {
   "cell_type": "markdown",
   "metadata": {
    "slideshow": {
     "slide_type": "subslide"
    }
   },
   "source": [
    "## Automatic Data Science Pipeline\n",
    "\n",
    "![](../img/ds.png)"
   ]
  }
 ],
 "metadata": {
  "celltoolbar": "Slideshow",
  "kernelspec": {
   "display_name": "Python 3",
   "language": "python",
   "name": "python3"
  },
  "language_info": {
   "codemirror_mode": {
    "name": "ipython",
    "version": 3
   },
   "file_extension": ".py",
   "mimetype": "text/x-python",
   "name": "python",
   "nbconvert_exporter": "python",
   "pygments_lexer": "ipython3",
   "version": "3.6.8"
  },
  "latex_envs": {
   "LaTeX_envs_menu_present": true,
   "autoclose": false,
   "autocomplete": true,
   "bibliofile": "biblio.bib",
   "cite_by": "apalike",
   "current_citInitial": 1,
   "eqLabelWithNumbers": true,
   "eqNumInitial": 1,
   "hotkeys": {
    "equation": "Ctrl-E",
    "itemize": "Ctrl-I"
   },
   "labels_anchors": false,
   "latex_user_defs": false,
   "report_style_numbering": false,
   "user_envs_cfg": false
  }
 },
 "nbformat": 4,
 "nbformat_minor": 2
}
