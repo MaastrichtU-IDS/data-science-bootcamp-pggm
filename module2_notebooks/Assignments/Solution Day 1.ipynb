{
 "cells": [
  {
   "cell_type": "markdown",
   "metadata": {},
   "source": [
    "# Assignment Day 1"
   ]
  },
  {
   "cell_type": "markdown",
   "metadata": {},
   "source": [
    "Choose one of the datasets:  \n",
    "- insurance-kaggle.csv\n",
    "- airbnb_london.csv\n",
    "- crime_population_netherlands.csv\n",
    "- pggm_dataset.csv\n",
    "\n",
    "And perform the following:"
   ]
  },
  {
   "cell_type": "code",
   "execution_count": 1,
   "metadata": {},
   "outputs": [],
   "source": [
    "# Load the libraries required\n",
    "import numpy as np\n",
    "import matplotlib.pyplot as plt\n",
    "import seaborn as sns; sns.set()\n",
    "import pandas as pd\n",
    "from math import log, sqrt\n",
    "import warnings\n",
    "from sklearn.externals import joblib\n",
    "warnings.filterwarnings('ignore')\n",
    "%matplotlib inline"
   ]
  },
  {
   "cell_type": "code",
   "execution_count": 2,
   "metadata": {
    "slideshow": {
     "slide_type": "fragment"
    }
   },
   "outputs": [],
   "source": [
    "from sklearn.linear_model import LinearRegression\n",
    "from sklearn.svm import SVR\n",
    "from sklearn.neighbors import KNeighborsRegressor\n",
    "from sklearn.tree import DecisionTreeRegressor\n",
    "from sklearn.metrics import r2_score\n",
    "from sklearn.metrics import mean_squared_error\n",
    "from sklearn.feature_selection import RFECV\n",
    "from sklearn import model_selection\n",
    "from sklearn.preprocessing import MinMaxScaler\n",
    "from sklearn.model_selection import train_test_split"
   ]
  },
  {
   "cell_type": "code",
   "execution_count": 3,
   "metadata": {},
   "outputs": [],
   "source": [
    "# Load the data\n",
    "dataset = pd.read_csv('crime_population_netherlands.csv')"
   ]
  },
  {
   "cell_type": "markdown",
   "metadata": {},
   "source": [
    "## Creating a simple linear regression function "
   ]
  },
  {
   "cell_type": "code",
   "execution_count": 4,
   "metadata": {},
   "outputs": [
    {
     "data": {
      "text/plain": [
       "Index(['CBScode', 'Municipality', 'Province', 'Population',\n",
       "       'Population_density(p/km)', 'HIC: Theft / burglary dwelling, complete',\n",
       "       'HIC: Theft / burglary dwelling, attempts', 'HIC: Violent Crime',\n",
       "       'HIC: Street Roof', 'HIC: Robberies', 'Undermining public order',\n",
       "       'Threat', 'Fire / Explosion', 'Theft of moped, moped, bike',\n",
       "       'Theft of / from vehicles', 'Theft of motor vehicles',\n",
       "       'Theft / burglary companies / institutions',\n",
       "       'Theft / burglary garage / barn / shed', 'Drug trafficking',\n",
       "       'Trespassing', 'mistreatment', 'Overt violence (person)',\n",
       "       'Or destruction. cause damage', 'Arms Trade', 'pickpocketing',\n",
       "       'morals Felony'],\n",
       "      dtype='object')"
      ]
     },
     "execution_count": 4,
     "metadata": {},
     "output_type": "execute_result"
    }
   ],
   "source": [
    "dataset.columns"
   ]
  },
  {
   "cell_type": "code",
   "execution_count": 32,
   "metadata": {},
   "outputs": [
    {
     "data": {
      "text/html": [
       "<div>\n",
       "<style scoped>\n",
       "    .dataframe tbody tr th:only-of-type {\n",
       "        vertical-align: middle;\n",
       "    }\n",
       "\n",
       "    .dataframe tbody tr th {\n",
       "        vertical-align: top;\n",
       "    }\n",
       "\n",
       "    .dataframe thead th {\n",
       "        text-align: right;\n",
       "    }\n",
       "</style>\n",
       "<table border=\"1\" class=\"dataframe\">\n",
       "  <thead>\n",
       "    <tr style=\"text-align: right;\">\n",
       "      <th></th>\n",
       "      <th>Population</th>\n",
       "      <th>Population_density(p/km)</th>\n",
       "      <th>HIC: Theft / burglary dwelling, complete</th>\n",
       "      <th>HIC: Theft / burglary dwelling, attempts</th>\n",
       "      <th>HIC: Violent Crime</th>\n",
       "      <th>HIC: Street Roof</th>\n",
       "      <th>HIC: Robberies</th>\n",
       "      <th>Undermining public order</th>\n",
       "      <th>Threat</th>\n",
       "      <th>Fire / Explosion</th>\n",
       "      <th>...</th>\n",
       "      <th>Theft / burglary companies / institutions</th>\n",
       "      <th>Theft / burglary garage / barn / shed</th>\n",
       "      <th>Drug trafficking</th>\n",
       "      <th>Trespassing</th>\n",
       "      <th>mistreatment</th>\n",
       "      <th>Overt violence (person)</th>\n",
       "      <th>Or destruction. cause damage</th>\n",
       "      <th>Arms Trade</th>\n",
       "      <th>pickpocketing</th>\n",
       "      <th>morals Felony</th>\n",
       "    </tr>\n",
       "  </thead>\n",
       "  <tbody>\n",
       "    <tr>\n",
       "      <th>count</th>\n",
       "      <td>390.000000</td>\n",
       "      <td>390.000000</td>\n",
       "      <td>390.000000</td>\n",
       "      <td>390.000000</td>\n",
       "      <td>390.000000</td>\n",
       "      <td>390.000000</td>\n",
       "      <td>390.000000</td>\n",
       "      <td>390.000000</td>\n",
       "      <td>390.000000</td>\n",
       "      <td>390.000000</td>\n",
       "      <td>...</td>\n",
       "      <td>390.000000</td>\n",
       "      <td>390.000000</td>\n",
       "      <td>390.000000</td>\n",
       "      <td>390.000000</td>\n",
       "      <td>390.000000</td>\n",
       "      <td>390.000000</td>\n",
       "      <td>390.000000</td>\n",
       "      <td>390.000000</td>\n",
       "      <td>390.000000</td>\n",
       "      <td>390.000000</td>\n",
       "    </tr>\n",
       "    <tr>\n",
       "      <th>mean</th>\n",
       "      <td>43159.884615</td>\n",
       "      <td>811.246154</td>\n",
       "      <td>97.979487</td>\n",
       "      <td>44.251282</td>\n",
       "      <td>205.753846</td>\n",
       "      <td>10.679487</td>\n",
       "      <td>2.905128</td>\n",
       "      <td>13.982051</td>\n",
       "      <td>77.861538</td>\n",
       "      <td>12.217949</td>\n",
       "      <td>...</td>\n",
       "      <td>68.605128</td>\n",
       "      <td>47.425641</td>\n",
       "      <td>32.028205</td>\n",
       "      <td>5.912821</td>\n",
       "      <td>118.461538</td>\n",
       "      <td>9.430769</td>\n",
       "      <td>242.928205</td>\n",
       "      <td>12.528205</td>\n",
       "      <td>65.148718</td>\n",
       "      <td>18.797436</td>\n",
       "    </tr>\n",
       "    <tr>\n",
       "      <th>std</th>\n",
       "      <td>67418.318090</td>\n",
       "      <td>973.824887</td>\n",
       "      <td>219.387051</td>\n",
       "      <td>103.767480</td>\n",
       "      <td>561.367584</td>\n",
       "      <td>76.075239</td>\n",
       "      <td>11.653689</td>\n",
       "      <td>66.946567</td>\n",
       "      <td>220.825994</td>\n",
       "      <td>23.945980</td>\n",
       "      <td>...</td>\n",
       "      <td>196.133507</td>\n",
       "      <td>90.476564</td>\n",
       "      <td>93.849175</td>\n",
       "      <td>18.895807</td>\n",
       "      <td>315.458995</td>\n",
       "      <td>28.402434</td>\n",
       "      <td>466.102905</td>\n",
       "      <td>43.284056</td>\n",
       "      <td>434.852773</td>\n",
       "      <td>42.000092</td>\n",
       "    </tr>\n",
       "    <tr>\n",
       "      <th>min</th>\n",
       "      <td>938.000000</td>\n",
       "      <td>21.000000</td>\n",
       "      <td>0.000000</td>\n",
       "      <td>0.000000</td>\n",
       "      <td>0.000000</td>\n",
       "      <td>0.000000</td>\n",
       "      <td>0.000000</td>\n",
       "      <td>0.000000</td>\n",
       "      <td>0.000000</td>\n",
       "      <td>0.000000</td>\n",
       "      <td>...</td>\n",
       "      <td>0.000000</td>\n",
       "      <td>0.000000</td>\n",
       "      <td>0.000000</td>\n",
       "      <td>0.000000</td>\n",
       "      <td>0.000000</td>\n",
       "      <td>0.000000</td>\n",
       "      <td>4.000000</td>\n",
       "      <td>0.000000</td>\n",
       "      <td>0.000000</td>\n",
       "      <td>0.000000</td>\n",
       "    </tr>\n",
       "    <tr>\n",
       "      <th>25%</th>\n",
       "      <td>17742.000000</td>\n",
       "      <td>225.250000</td>\n",
       "      <td>27.000000</td>\n",
       "      <td>10.000000</td>\n",
       "      <td>41.000000</td>\n",
       "      <td>0.000000</td>\n",
       "      <td>0.000000</td>\n",
       "      <td>1.000000</td>\n",
       "      <td>16.000000</td>\n",
       "      <td>2.000000</td>\n",
       "      <td>...</td>\n",
       "      <td>17.000000</td>\n",
       "      <td>12.000000</td>\n",
       "      <td>5.000000</td>\n",
       "      <td>0.000000</td>\n",
       "      <td>24.000000</td>\n",
       "      <td>1.000000</td>\n",
       "      <td>64.000000</td>\n",
       "      <td>2.000000</td>\n",
       "      <td>3.000000</td>\n",
       "      <td>4.000000</td>\n",
       "    </tr>\n",
       "    <tr>\n",
       "      <th>50%</th>\n",
       "      <td>26046.500000</td>\n",
       "      <td>415.000000</td>\n",
       "      <td>45.500000</td>\n",
       "      <td>18.000000</td>\n",
       "      <td>78.000000</td>\n",
       "      <td>1.000000</td>\n",
       "      <td>1.000000</td>\n",
       "      <td>3.000000</td>\n",
       "      <td>31.000000</td>\n",
       "      <td>5.000000</td>\n",
       "      <td>...</td>\n",
       "      <td>29.000000</td>\n",
       "      <td>25.000000</td>\n",
       "      <td>12.000000</td>\n",
       "      <td>1.000000</td>\n",
       "      <td>44.500000</td>\n",
       "      <td>3.000000</td>\n",
       "      <td>115.500000</td>\n",
       "      <td>4.000000</td>\n",
       "      <td>8.000000</td>\n",
       "      <td>9.000000</td>\n",
       "    </tr>\n",
       "    <tr>\n",
       "      <th>75%</th>\n",
       "      <td>44371.500000</td>\n",
       "      <td>998.000000</td>\n",
       "      <td>84.750000</td>\n",
       "      <td>37.000000</td>\n",
       "      <td>156.000000</td>\n",
       "      <td>4.000000</td>\n",
       "      <td>2.000000</td>\n",
       "      <td>7.000000</td>\n",
       "      <td>60.000000</td>\n",
       "      <td>12.000000</td>\n",
       "      <td>...</td>\n",
       "      <td>55.750000</td>\n",
       "      <td>44.750000</td>\n",
       "      <td>24.750000</td>\n",
       "      <td>4.000000</td>\n",
       "      <td>90.750000</td>\n",
       "      <td>7.000000</td>\n",
       "      <td>227.000000</td>\n",
       "      <td>9.000000</td>\n",
       "      <td>21.000000</td>\n",
       "      <td>17.000000</td>\n",
       "    </tr>\n",
       "    <tr>\n",
       "      <th>max</th>\n",
       "      <td>853312.000000</td>\n",
       "      <td>6131.000000</td>\n",
       "      <td>2962.000000</td>\n",
       "      <td>1351.000000</td>\n",
       "      <td>7645.000000</td>\n",
       "      <td>1331.000000</td>\n",
       "      <td>176.000000</td>\n",
       "      <td>1115.000000</td>\n",
       "      <td>3017.000000</td>\n",
       "      <td>243.000000</td>\n",
       "      <td>...</td>\n",
       "      <td>3264.000000</td>\n",
       "      <td>997.000000</td>\n",
       "      <td>1293.000000</td>\n",
       "      <td>265.000000</td>\n",
       "      <td>4356.000000</td>\n",
       "      <td>403.000000</td>\n",
       "      <td>4956.000000</td>\n",
       "      <td>556.000000</td>\n",
       "      <td>8009.000000</td>\n",
       "      <td>530.000000</td>\n",
       "    </tr>\n",
       "  </tbody>\n",
       "</table>\n",
       "<p>8 rows × 23 columns</p>\n",
       "</div>"
      ],
      "text/plain": [
       "          Population  Population_density(p/km)  \\\n",
       "count     390.000000                390.000000   \n",
       "mean    43159.884615                811.246154   \n",
       "std     67418.318090                973.824887   \n",
       "min       938.000000                 21.000000   \n",
       "25%     17742.000000                225.250000   \n",
       "50%     26046.500000                415.000000   \n",
       "75%     44371.500000                998.000000   \n",
       "max    853312.000000               6131.000000   \n",
       "\n",
       "       HIC: Theft / burglary dwelling, complete  \\\n",
       "count                                390.000000   \n",
       "mean                                  97.979487   \n",
       "std                                  219.387051   \n",
       "min                                    0.000000   \n",
       "25%                                   27.000000   \n",
       "50%                                   45.500000   \n",
       "75%                                   84.750000   \n",
       "max                                 2962.000000   \n",
       "\n",
       "       HIC: Theft / burglary dwelling, attempts  HIC: Violent Crime  \\\n",
       "count                                390.000000          390.000000   \n",
       "mean                                  44.251282          205.753846   \n",
       "std                                  103.767480          561.367584   \n",
       "min                                    0.000000            0.000000   \n",
       "25%                                   10.000000           41.000000   \n",
       "50%                                   18.000000           78.000000   \n",
       "75%                                   37.000000          156.000000   \n",
       "max                                 1351.000000         7645.000000   \n",
       "\n",
       "       HIC: Street Roof  HIC: Robberies  Undermining public order  \\\n",
       "count        390.000000      390.000000                390.000000   \n",
       "mean          10.679487        2.905128                 13.982051   \n",
       "std           76.075239       11.653689                 66.946567   \n",
       "min            0.000000        0.000000                  0.000000   \n",
       "25%            0.000000        0.000000                  1.000000   \n",
       "50%            1.000000        1.000000                  3.000000   \n",
       "75%            4.000000        2.000000                  7.000000   \n",
       "max         1331.000000      176.000000               1115.000000   \n",
       "\n",
       "            Threat  Fire / Explosion  ...  \\\n",
       "count   390.000000        390.000000  ...   \n",
       "mean     77.861538         12.217949  ...   \n",
       "std     220.825994         23.945980  ...   \n",
       "min       0.000000          0.000000  ...   \n",
       "25%      16.000000          2.000000  ...   \n",
       "50%      31.000000          5.000000  ...   \n",
       "75%      60.000000         12.000000  ...   \n",
       "max    3017.000000        243.000000  ...   \n",
       "\n",
       "       Theft / burglary companies / institutions  \\\n",
       "count                                 390.000000   \n",
       "mean                                   68.605128   \n",
       "std                                   196.133507   \n",
       "min                                     0.000000   \n",
       "25%                                    17.000000   \n",
       "50%                                    29.000000   \n",
       "75%                                    55.750000   \n",
       "max                                  3264.000000   \n",
       "\n",
       "       Theft / burglary garage / barn / shed  Drug trafficking  Trespassing  \\\n",
       "count                             390.000000        390.000000   390.000000   \n",
       "mean                               47.425641         32.028205     5.912821   \n",
       "std                                90.476564         93.849175    18.895807   \n",
       "min                                 0.000000          0.000000     0.000000   \n",
       "25%                                12.000000          5.000000     0.000000   \n",
       "50%                                25.000000         12.000000     1.000000   \n",
       "75%                                44.750000         24.750000     4.000000   \n",
       "max                               997.000000       1293.000000   265.000000   \n",
       "\n",
       "       mistreatment  Overt violence (person)  Or destruction. cause damage  \\\n",
       "count    390.000000               390.000000                    390.000000   \n",
       "mean     118.461538                 9.430769                    242.928205   \n",
       "std      315.458995                28.402434                    466.102905   \n",
       "min        0.000000                 0.000000                      4.000000   \n",
       "25%       24.000000                 1.000000                     64.000000   \n",
       "50%       44.500000                 3.000000                    115.500000   \n",
       "75%       90.750000                 7.000000                    227.000000   \n",
       "max     4356.000000               403.000000                   4956.000000   \n",
       "\n",
       "       Arms Trade  pickpocketing  morals Felony  \n",
       "count  390.000000     390.000000     390.000000  \n",
       "mean    12.528205      65.148718      18.797436  \n",
       "std     43.284056     434.852773      42.000092  \n",
       "min      0.000000       0.000000       0.000000  \n",
       "25%      2.000000       3.000000       4.000000  \n",
       "50%      4.000000       8.000000       9.000000  \n",
       "75%      9.000000      21.000000      17.000000  \n",
       "max    556.000000    8009.000000     530.000000  \n",
       "\n",
       "[8 rows x 23 columns]"
      ]
     },
     "execution_count": 32,
     "metadata": {},
     "output_type": "execute_result"
    }
   ],
   "source": [
    "dataset.describe()"
   ]
  },
  {
   "cell_type": "code",
   "execution_count": 33,
   "metadata": {
    "slideshow": {
     "slide_type": "subslide"
    }
   },
   "outputs": [],
   "source": [
    "X = dataset['Arms Trade']\n",
    "y = dataset['HIC: Violent Crime']"
   ]
  },
  {
   "cell_type": "code",
   "execution_count": 34,
   "metadata": {},
   "outputs": [
    {
     "data": {
      "text/plain": [
       "count     390.000000\n",
       "mean      205.753846\n",
       "std       561.367584\n",
       "min         0.000000\n",
       "25%        41.000000\n",
       "50%        78.000000\n",
       "75%       156.000000\n",
       "max      7645.000000\n",
       "Name: HIC: Violent Crime, dtype: float64"
      ]
     },
     "execution_count": 34,
     "metadata": {},
     "output_type": "execute_result"
    }
   ],
   "source": [
    "# Calculate basic statistics like the mean, max, etc you can use existing functions of python\n",
    "y.describe()"
   ]
  },
  {
   "cell_type": "code",
   "execution_count": 35,
   "metadata": {},
   "outputs": [
    {
     "data": {
      "text/plain": [
       "count    390.000000\n",
       "mean      12.528205\n",
       "std       43.284056\n",
       "min        0.000000\n",
       "25%        2.000000\n",
       "50%        4.000000\n",
       "75%        9.000000\n",
       "max      556.000000\n",
       "Name: Arms Trade, dtype: float64"
      ]
     },
     "execution_count": 35,
     "metadata": {},
     "output_type": "execute_result"
    }
   ],
   "source": [
    "X.describe()"
   ]
  },
  {
   "cell_type": "code",
   "execution_count": 8,
   "metadata": {},
   "outputs": [
    {
     "name": "stdout",
     "output_type": "stream",
     "text": [
      "Parametric Pearson cor test: cor: 0.9712, pval: 0.00000000\n"
     ]
    }
   ],
   "source": [
    "# Compute correlation, in case something is missing complete it\n",
    "from scipy import stats\n",
    "cor, pval = stats.pearsonr(X.values,y.values)\n",
    "print(\"Parametric Pearson cor test: cor: %.4f, pval: %.8f\" % (cor,pval))"
   ]
  },
  {
   "cell_type": "code",
   "execution_count": 9,
   "metadata": {},
   "outputs": [
    {
     "data": {
      "text/plain": [
       "<matplotlib.axes._subplots.AxesSubplot at 0x1115eaf98>"
      ]
     },
     "execution_count": 9,
     "metadata": {},
     "output_type": "execute_result"
    },
    {
     "data": {
      "image/png": "[encoded data removed]",
      "text/plain": [
       "<Figure size 432x288 with 1 Axes>"
      ]
     },
     "metadata": {},
     "output_type": "display_data"
    }
   ],
   "source": [
    "# Make a scatter plot of both\n",
    "sns.regplot(X, y)"
   ]
  },
  {
   "cell_type": "markdown",
   "metadata": {},
   "source": [
    "***Complete the following function (or write your own) to compute the simple linear regression slope and intercept:***"
   ]
  },
  {
   "cell_type": "markdown",
   "metadata": {},
   "source": [
    "![](../../img/model_formula.png)"
   ]
  },
  {
   "cell_type": "code",
   "execution_count": 10,
   "metadata": {},
   "outputs": [],
   "source": [
    "def simple_linear_regression(x, y):\n",
    "    xy = x * y\n",
    "    mean_xy = xy.mean()\n",
    "    mean_x = x.mean()\n",
    "    mean_y = y.mean()\n",
    "    xx = x * x # create xx variable mean_xx = xx.mean()\n",
    "    mean_xx = xx.mean()\n",
    "    x_sqr = mean_x * mean_x\n",
    "    #compute slope\n",
    "    cov_xy = mean_xy - mean_x * mean_y \n",
    "    var_x = mean_xx - x_sqr\n",
    "    slope = cov_xy / var_x #use the slope for the intercept \n",
    "    intercept = mean_y - slope * mean_x\n",
    "    print('Simple linear regression works!')\n",
    "    return intercept, slope"
   ]
  },
  {
   "cell_type": "markdown",
   "metadata": {},
   "source": [
    "We can test that our function works by passing it something where we know the answer. In particular we can generate a feature and then put the target exactly on a line: [y = 1 + 1 * y] then we know both our slope and intercept should be 1"
   ]
  },
  {
   "cell_type": "code",
   "execution_count": 11,
   "metadata": {
    "scrolled": true
   },
   "outputs": [
    {
     "name": "stdout",
     "output_type": "stream",
     "text": [
      "Simple linear regression works!\n",
      "Intercept: 1.0\n",
      "Slope: 1.0\n"
     ]
    }
   ],
   "source": [
    "test_feature = np.array(list(range(5)))\n",
    "test_target = np.array([1+ 1*i for i in test_feature])\n",
    "test_intercept, test_slope =  simple_linear_regression(test_feature, test_target)\n",
    "print (\"Intercept: {}\".format(test_intercept))\n",
    "print (\"Slope: {}\".format(test_slope))"
   ]
  },
  {
   "cell_type": "code",
   "execution_count": 12,
   "metadata": {},
   "outputs": [],
   "source": [
    "# Using the function from scikitlearn split the data"
   ]
  },
  {
   "cell_type": "code",
   "execution_count": 13,
   "metadata": {
    "slideshow": {
     "slide_type": "fragment"
    }
   },
   "outputs": [],
   "source": [
    "from sklearn.model_selection import train_test_split\n",
    "X_train, X_test, y_train, y_test = train_test_split(X, y, test_size=0.3, random_state=12)"
   ]
  },
  {
   "cell_type": "code",
   "execution_count": 14,
   "metadata": {},
   "outputs": [
    {
     "name": "stdout",
     "output_type": "stream",
     "text": [
      "Simple linear regression works!\n"
     ]
    }
   ],
   "source": [
    "intercept, slope = simple_linear_regression(X, y)"
   ]
  },
  {
   "cell_type": "code",
   "execution_count": 38,
   "metadata": {},
   "outputs": [
    {
     "name": "stdout",
     "output_type": "stream",
     "text": [
      "Intercept: 47.96 shasisanais\n",
      "Slope: 12.595472413754427\n"
     ]
    }
   ],
   "source": [
    "print (\"Intercept: {} shasisanais\".format(round(intercept,2)))\n",
    "print (\"Slope: {}\".format(slope))"
   ]
  },
  {
   "cell_type": "code",
   "execution_count": 36,
   "metadata": {},
   "outputs": [
    {
     "name": "stdout",
     "output_type": "stream",
     "text": [
      "12.595472413754427\n"
     ]
    }
   ],
   "source": [
    "print(slope)"
   ]
  },
  {
   "cell_type": "markdown",
   "metadata": {},
   "source": [
    "Now that we have the model parameters: intercept & slope we can make predictions. Complete the following function to return the predicted target given the input_feature, slope and intercept:"
   ]
  },
  {
   "cell_type": "code",
   "execution_count": 16,
   "metadata": {},
   "outputs": [],
   "source": [
    "def get_regression_predictions(input_feature, intercept, slope):\n",
    "    return intercept + slope * input_feature"
   ]
  },
  {
   "cell_type": "markdown",
   "metadata": {},
   "source": [
    "Set a new value to try the function"
   ]
  },
  {
   "cell_type": "code",
   "execution_count": 17,
   "metadata": {},
   "outputs": [],
   "source": [
    "new_value = 10\n",
    "prediction = get_regression_predictions(new_value, intercept, slope)"
   ]
  },
  {
   "cell_type": "code",
   "execution_count": 18,
   "metadata": {},
   "outputs": [
    {
     "data": {
      "text/plain": [
       "173.909908205226"
      ]
     },
     "execution_count": 18,
     "metadata": {},
     "output_type": "execute_result"
    }
   ],
   "source": [
    "prediction"
   ]
  },
  {
   "cell_type": "code",
   "execution_count": 19,
   "metadata": {},
   "outputs": [],
   "source": [
    "prediction_violent_crime = get_regression_predictions(X_test, intercept, slope)"
   ]
  },
  {
   "cell_type": "markdown",
   "metadata": {},
   "source": [
    "Now that we have a model and can make predictions let's evaluate our model using MSE. "
   ]
  },
  {
   "cell_type": "code",
   "execution_count": 20,
   "metadata": {
    "slideshow": {
     "slide_type": "subslide"
    }
   },
   "outputs": [
    {
     "data": {
      "text/plain": [
       "0.9446730408023316"
      ]
     },
     "execution_count": 20,
     "metadata": {},
     "output_type": "execute_result"
    }
   ],
   "source": [
    "r2_score(y_test, prediction_violent_crime)"
   ]
  },
  {
   "cell_type": "markdown",
   "metadata": {},
   "source": [
    "## Choose the best algorithm for your data"
   ]
  },
  {
   "cell_type": "markdown",
   "metadata": {},
   "source": [
    "Having preliminalry results of predictions, move on and compute the whole pipeline from Scikitlearn"
   ]
  },
  {
   "cell_type": "code",
   "execution_count": 21,
   "metadata": {
    "slideshow": {
     "slide_type": "subslide"
    }
   },
   "outputs": [],
   "source": [
    "dataset = pd.read_csv('crime_population_netherlands.csv')\n",
    "X = dataset._get_numeric_data().drop('HIC: Violent Crime', axis=1)\n",
    "y = dataset['HIC: Violent Crime']"
   ]
  },
  {
   "cell_type": "code",
   "execution_count": 22,
   "metadata": {
    "slideshow": {
     "slide_type": "fragment"
    }
   },
   "outputs": [],
   "source": [
    "X_train, X_test, y_train, y_test = train_test_split(X, y, test_size=0.3, random_state=12)"
   ]
  },
  {
   "cell_type": "code",
   "execution_count": 23,
   "metadata": {
    "slideshow": {
     "slide_type": "fragment"
    }
   },
   "outputs": [],
   "source": [
    "scaler = MinMaxScaler(feature_range=(0, 1))\n",
    "X_train = pd.DataFrame(scaler.fit_transform(X_train))\n",
    "X_test = pd.DataFrame(scaler.fit_transform(X_test))"
   ]
  },
  {
   "cell_type": "code",
   "execution_count": 24,
   "metadata": {},
   "outputs": [],
   "source": [
    "models = []\n",
    "models.append(('LR', LinearRegression()))\n",
    "models.append(('KNN', KNeighborsRegressor(n_neighbors=1)))\n",
    "models.append(('DTR', DecisionTreeRegressor()))\n",
    "models.append(('SVR', SVR(kernel='rbf', C=100, gamma=0.1, epsilon=.1)))\n",
    "models.append(('SVRL', SVR(kernel='linear', C=100, gamma='auto')))"
   ]
  },
  {
   "cell_type": "code",
   "execution_count": 25,
   "metadata": {
    "slideshow": {
     "slide_type": "fragment"
    }
   },
   "outputs": [
    {
     "name": "stdout",
     "output_type": "stream",
     "text": [
      "LR: 1.000000 (0.000000)\n",
      "KNN: 0.765311 (0.211021)\n",
      "DTR: 0.866030 (0.180739)\n",
      "SVR: 0.330755 (0.145458)\n",
      "SVRL: 0.892529 (0.084933)\n"
     ]
    }
   ],
   "source": [
    "results = []\n",
    "names = []\n",
    "for name, model in models:\n",
    "    kfold = model_selection.KFold(n_splits=10)\n",
    "    cv_results = model_selection.cross_val_score(model, X_train, y_train, cv=kfold, scoring='r2')\n",
    "    results.append(cv_results)\n",
    "    names.append(name)\n",
    "    msg = \"%s: %f (%f)\" % (name, cv_results.mean(), cv_results.std())\n",
    "    print(msg)"
   ]
  },
  {
   "cell_type": "code",
   "execution_count": 26,
   "metadata": {
    "slideshow": {
     "slide_type": "subslide"
    }
   },
   "outputs": [
    {
     "data": {
      "text/plain": [
       "Text(0,0.5,'R2 Score')"
      ]
     },
     "execution_count": 26,
     "metadata": {},
     "output_type": "execute_result"
    },
    {
     "data": {
      "image/png": "[encoded data removed]",
      "text/plain": [
       "<Figure size 432x288 with 1 Axes>"
      ]
     },
     "metadata": {},
     "output_type": "display_data"
    }
   ],
   "source": [
    "plt.bar(list(range(len(results))), [i.mean() for i in results])\n",
    "plt.xticks(list(range(len(results))), names)\n",
    "plt.ylabel('R2 Score')"
   ]
  },
  {
   "cell_type": "code",
   "execution_count": 27,
   "metadata": {
    "slideshow": {
     "slide_type": "fragment"
    }
   },
   "outputs": [],
   "source": [
    "model_scores = []\n",
    "for repetition in range(1000):\n",
    "    X_train, X_test, y_train, y_test = train_test_split(X, y, test_size=0.2)\n",
    "    model = models[2][1]\n",
    "    model.fit(X_train, y_train)\n",
    "    y_predict = model.predict(X_test)\n",
    "    #rmse = sqrt(mean_squared_error(y_test, y_predict))\n",
    "    r2_s = r2_score(y_test, y_predict)\n",
    "    model_scores.append(r2_s)"
   ]
  },
  {
   "cell_type": "code",
   "execution_count": 28,
   "metadata": {
    "slideshow": {
     "slide_type": "subslide"
    }
   },
   "outputs": [
    {
     "data": {
      "text/plain": [
       "<matplotlib.axes._subplots.AxesSubplot at 0x1115c58d0>"
      ]
     },
     "execution_count": 28,
     "metadata": {},
     "output_type": "execute_result"
    },
    {
     "data": {
      "image/png": "[encoded data removed]",
      "text/plain": [
       "<Figure size 432x288 with 1 Axes>"
      ]
     },
     "metadata": {},
     "output_type": "display_data"
    }
   ],
   "source": [
    "plt.title('Evaluation Score Distribution')\n",
    "sns.distplot(model_scores, color=\"g\")"
   ]
  },
  {
   "cell_type": "code",
   "execution_count": 29,
   "metadata": {
    "slideshow": {
     "slide_type": "fragment"
    }
   },
   "outputs": [
    {
     "data": {
      "text/plain": [
       "['best_regressor.sav']"
      ]
     },
     "execution_count": 29,
     "metadata": {},
     "output_type": "execute_result"
    }
   ],
   "source": [
    "filename = 'best_regressor.sav'\n",
    "joblib.dump(models[2][1], filename)"
   ]
  },
  {
   "cell_type": "code",
   "execution_count": null,
   "metadata": {
    "slideshow": {
     "slide_type": "fragment"
    }
   },
   "outputs": [],
   "source": [
    "scoring = 'neg_mean_squared_error'\n",
    "results = model_selection.cross_val_score(model, X, y, cv=kfold, scoring=scoring)\n",
    "print(\"MSE: %.3f (%.3f)\" % (results.mean(), results.std()))"
   ]
  },
  {
   "cell_type": "code",
   "execution_count": null,
   "metadata": {},
   "outputs": [],
   "source": []
  }
 ],
 "metadata": {
  "kernelspec": {
   "display_name": "Python 3",
   "language": "python",
   "name": "python3"
  },
  "language_info": {
   "codemirror_mode": {
    "name": "ipython",
    "version": 3
   },
   "file_extension": ".py",
   "mimetype": "text/x-python",
   "name": "python",
   "nbconvert_exporter": "python",
   "pygments_lexer": "ipython3",
   "version": "3.6.8"
  }
 },
 "nbformat": 4,
 "nbformat_minor": 2
}
