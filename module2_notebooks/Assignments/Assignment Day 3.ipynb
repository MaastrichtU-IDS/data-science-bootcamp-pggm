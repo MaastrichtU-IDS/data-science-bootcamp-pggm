{
 "cells": [
  {
   "cell_type": "markdown",
   "metadata": {
    "slideshow": {
     "slide_type": "slide"
    }
   },
   "source": [
    "## Exercise (DAY 3)"
   ]
  },
  {
   "cell_type": "markdown",
   "metadata": {},
   "source": [
    "## K-Means Clustering"
   ]
  },
  {
   "cell_type": "code",
   "execution_count": 2,
   "metadata": {},
   "outputs": [],
   "source": [
    "# Make a cluster similar to the first exercise notebook on the pggm dataset using variables\n",
    "# of Price_USD and Weight variable"
   ]
  },
  {
   "cell_type": "code",
   "execution_count": null,
   "metadata": {},
   "outputs": [],
   "source": [
    "# Create the plot of the clustering"
   ]
  },
  {
   "cell_type": "code",
   "execution_count": null,
   "metadata": {},
   "outputs": [],
   "source": [
    "# Try to calculate the euclidean distance from each point to its designated centroid\n",
    "# The highest distances are usually the outliers"
   ]
  },
  {
   "cell_type": "markdown",
   "metadata": {},
   "source": [
    "## Clustering Metric"
   ]
  },
  {
   "cell_type": "code",
   "execution_count": null,
   "metadata": {},
   "outputs": [],
   "source": [
    "# Make a cluster following the example in the k-means notebook on the pggm dataset using 6 variables\n",
    "# from Market_cap to LTM_EP inclusive and provide the silouhette sample plot, then, comment about it."
   ]
  },
  {
   "cell_type": "markdown",
   "metadata": {},
   "source": [
    "## Neural Networks"
   ]
  },
  {
   "cell_type": "markdown",
   "metadata": {},
   "source": [
    "1. Choose one of the datasets:  \n",
    "    - insurance-kaggle.csv\n",
    "    - airbnb_london.csv\n",
    "    - pggm_dataset.csv\n",
    "2. Select a target to learn (For PGGM: Do a neural network regression)\n",
    "3. Implement a neural network model on the dataset and comment on the results"
   ]
  },
  {
   "cell_type": "markdown",
   "metadata": {
    "slideshow": {
     "slide_type": "slide"
    }
   },
   "source": [
    "## General"
   ]
  },
  {
   "cell_type": "markdown",
   "metadata": {},
   "source": [
    "**describe the main principles of the following terms in short and concise words :**\n",
    "- unsupervised learning\n",
    "- supervised learning\n",
    "- inputs/features/predictors/independent variables\n",
    "- outcome/response/dependent variables\n",
    "- quantitative variable\n",
    "- qualitative/categorical variable\n",
    "- classification\n",
    "- regression\n",
    "- training data\n",
    "- test data\n",
    "- prediction\n",
    "- inference\n",
    "- parametric models\n",
    "- non-parametric models\n",
    "\n",
    "**Why do we need model validation?**\n",
    "\n",
    "**What is your current opinion on the statement that machine learning and AI is or will soon be ready to overtake humans given all you now know about how it is done?**"
   ]
  },
  {
   "cell_type": "code",
   "execution_count": null,
   "metadata": {},
   "outputs": [],
   "source": []
  }
 ],
 "metadata": {
  "kernelspec": {
   "display_name": "Python 3",
   "language": "python",
   "name": "python3"
  },
  "language_info": {
   "codemirror_mode": {
    "name": "ipython",
    "version": 3
   },
   "file_extension": ".py",
   "mimetype": "text/x-python",
   "name": "python",
   "nbconvert_exporter": "python",
   "pygments_lexer": "ipython3",
   "version": "3.6.7"
  }
 },
 "nbformat": 4,
 "nbformat_minor": 2
}
