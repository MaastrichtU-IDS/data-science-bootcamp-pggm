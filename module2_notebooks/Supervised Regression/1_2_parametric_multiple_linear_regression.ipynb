{
 "cells": [
  {
   "cell_type": "markdown",
   "metadata": {
    "slideshow": {
     "slide_type": "slide"
    }
   },
   "source": [
    "## Multiple Linear Regression"
   ]
  },
  {
   "cell_type": "markdown",
   "metadata": {
    "slideshow": {
     "slide_type": "slide"
    }
   },
   "source": [
    "Simple linear regression can easily be extended to include multiple features. This is called multiple linear regression:.\n",
    "A straight-plane fit is a model of the form\n",
    "\n",
    "$$\n",
    "\\large y = \\large \\beta + \\large \\alpha_1 x_1 + \\large \\alpha_2 x_2 +...+ \\large \\alpha_n x_n\n",
    "$$\n",
    "\n",
    "where:\n",
    "<br>$\\alpha_i$ is commonly known as the *slope* in multiple dimensions that makes up a plane\n",
    "<br>$\\beta$ is commonly known as the *intercept*. \n"
   ]
  },
  {
   "cell_type": "code",
   "execution_count": 1,
   "metadata": {
    "slideshow": {
     "slide_type": "slide"
    }
   },
   "outputs": [],
   "source": [
    "import numpy as np\n",
    "import matplotlib.pyplot as plt\n",
    "import seaborn as sns; sns.set()\n",
    "import pandas as pd\n",
    "%matplotlib inline\n",
    "import pylab\n",
    "pylab.rcParams['figure.figsize'] = (10.0, 8.0)"
   ]
  },
  {
   "cell_type": "markdown",
   "metadata": {
    "slideshow": {
     "slide_type": "slide"
    }
   },
   "source": [
    "### Code Dictionary\n",
    "code | description\n",
    "-----|------------\n",
    "`read_csv(file)` | Using the Pandas library, create a dataframe for the dataset\n",
    "`.loc()` | Access a group of rows and columns by label(s) or a boolean array.\n",
    "`.get_dummies()` | Convert categorical variable into dummy/indicator variables\n",
    "`.concat()` | Concatenate pandas dataframes along a particular axis.\n",
    "`statsmodels` | Library for in depth statistical analysis.\n",
    "`.OLS(y, X)` | Ordinary least squares aka linear regression.\n",
    "`.RFECV(model, folds)` | Automatic selection of the best number of features."
   ]
  },
  {
   "cell_type": "markdown",
   "metadata": {
    "slideshow": {
     "slide_type": "slide"
    }
   },
   "source": [
    "We Load our data in pandas as a dataframe first"
   ]
  },
  {
   "cell_type": "code",
   "execution_count": 2,
   "metadata": {
    "slideshow": {
     "slide_type": "fragment"
    }
   },
   "outputs": [],
   "source": [
    "dataset = pd.read_csv('pggm_dataset.csv')"
   ]
  },
  {
   "cell_type": "markdown",
   "metadata": {
    "slideshow": {
     "slide_type": "slide"
    }
   },
   "source": [
    "Then we explore the data set"
   ]
  },
  {
   "cell_type": "code",
   "execution_count": 3,
   "metadata": {
    "slideshow": {
     "slide_type": "fragment"
    }
   },
   "outputs": [
    {
     "data": {
      "text/html": [
       "<div>\n",
       "<style scoped>\n",
       "    .dataframe tbody tr th:only-of-type {\n",
       "        vertical-align: middle;\n",
       "    }\n",
       "\n",
       "    .dataframe tbody tr th {\n",
       "        vertical-align: top;\n",
       "    }\n",
       "\n",
       "    .dataframe thead th {\n",
       "        text-align: right;\n",
       "    }\n",
       "</style>\n",
       "<table border=\"1\" class=\"dataframe\">\n",
       "  <thead>\n",
       "    <tr style=\"text-align: right;\">\n",
       "      <th></th>\n",
       "      <th>Identifier</th>\n",
       "      <th>Name</th>\n",
       "      <th>Period</th>\n",
       "      <th>Period_YYYYMMDD</th>\n",
       "      <th>Ticker</th>\n",
       "      <th>Universe_Returns_F1W</th>\n",
       "      <th>Universe_Returns_F4W</th>\n",
       "      <th>Universe_Returns_F12W</th>\n",
       "      <th>Weight</th>\n",
       "      <th>GICS_Sector</th>\n",
       "      <th>GICS_Ind_Grp</th>\n",
       "      <th>Market_Cap_USD</th>\n",
       "      <th>Price_USD</th>\n",
       "      <th>NTM_EP</th>\n",
       "      <th>LTM_ROA</th>\n",
       "      <th>BP</th>\n",
       "      <th>LTM_EP</th>\n",
       "      <th>5Y_Sales_Growth</th>\n",
       "    </tr>\n",
       "  </thead>\n",
       "  <tbody>\n",
       "    <tr>\n",
       "      <th>0</th>\n",
       "      <td>17290810</td>\n",
       "      <td>Cintas Corporation</td>\n",
       "      <td>12/31/2014</td>\n",
       "      <td>20141231</td>\n",
       "      <td>CTAS-US</td>\n",
       "      <td>-2.517855</td>\n",
       "      <td>-0.121111</td>\n",
       "      <td>4.156041</td>\n",
       "      <td>0.000402</td>\n",
       "      <td>Industrials</td>\n",
       "      <td>Commercial &amp; Professional Services</td>\n",
       "      <td>7761.120</td>\n",
       "      <td>78.44</td>\n",
       "      <td>0.044387</td>\n",
       "      <td>9.089989</td>\n",
       "      <td>0.246962</td>\n",
       "      <td>0.042708</td>\n",
       "      <td>4.718765</td>\n",
       "    </tr>\n",
       "    <tr>\n",
       "      <th>1</th>\n",
       "      <td>80589M10</td>\n",
       "      <td>SCANA Corporation</td>\n",
       "      <td>12/31/2014</td>\n",
       "      <td>20141231</td>\n",
       "      <td>SCG-US</td>\n",
       "      <td>2.036428</td>\n",
       "      <td>6.307948</td>\n",
       "      <td>-8.426744</td>\n",
       "      <td>0.000422</td>\n",
       "      <td>Utilities</td>\n",
       "      <td>Utilities</td>\n",
       "      <td>8151.001</td>\n",
       "      <td>60.40</td>\n",
       "      <td>0.061397</td>\n",
       "      <td>3.472852</td>\n",
       "      <td>0.572871</td>\n",
       "      <td>0.062748</td>\n",
       "      <td>-0.949881</td>\n",
       "    </tr>\n",
       "    <tr>\n",
       "      <th>2</th>\n",
       "      <td>50241310</td>\n",
       "      <td>L-3 Communications Holdings Inc.</td>\n",
       "      <td>12/31/2014</td>\n",
       "      <td>20141231</td>\n",
       "      <td>LLL-US</td>\n",
       "      <td>-0.396162</td>\n",
       "      <td>-1.283580</td>\n",
       "      <td>-0.753021</td>\n",
       "      <td>0.000563</td>\n",
       "      <td>Industrials</td>\n",
       "      <td>Capital Goods</td>\n",
       "      <td>10883.341</td>\n",
       "      <td>126.21</td>\n",
       "      <td>0.060554</td>\n",
       "      <td>4.744629</td>\n",
       "      <td>0.570099</td>\n",
       "      <td>0.059821</td>\n",
       "      <td>-4.316938</td>\n",
       "    </tr>\n",
       "    <tr>\n",
       "      <th>3</th>\n",
       "      <td>91301710</td>\n",
       "      <td>United Technologies Corporation</td>\n",
       "      <td>12/31/2014</td>\n",
       "      <td>20141231</td>\n",
       "      <td>UTX-US</td>\n",
       "      <td>-1.973909</td>\n",
       "      <td>1.669562</td>\n",
       "      <td>1.815629</td>\n",
       "      <td>0.005174</td>\n",
       "      <td>Industrials</td>\n",
       "      <td>Capital Goods</td>\n",
       "      <td>99942.990</td>\n",
       "      <td>115.00</td>\n",
       "      <td>0.062889</td>\n",
       "      <td>6.805052</td>\n",
       "      <td>0.325584</td>\n",
       "      <td>0.059088</td>\n",
       "      <td>3.083364</td>\n",
       "    </tr>\n",
       "    <tr>\n",
       "      <th>4</th>\n",
       "      <td>92939U10</td>\n",
       "      <td>Wisconsin Energy Corporation</td>\n",
       "      <td>12/31/2014</td>\n",
       "      <td>20141231</td>\n",
       "      <td>WEC-US</td>\n",
       "      <td>1.118696</td>\n",
       "      <td>7.679176</td>\n",
       "      <td>-6.160975</td>\n",
       "      <td>0.000616</td>\n",
       "      <td>Utilities</td>\n",
       "      <td>Utilities</td>\n",
       "      <td>11893.872</td>\n",
       "      <td>52.74</td>\n",
       "      <td>0.051359</td>\n",
       "      <td>4.201019</td>\n",
       "      <td>0.369798</td>\n",
       "      <td>0.050815</td>\n",
       "      <td>1.421392</td>\n",
       "    </tr>\n",
       "  </tbody>\n",
       "</table>\n",
       "</div>"
      ],
      "text/plain": [
       "  Identifier                              Name      Period  Period_YYYYMMDD  \\\n",
       "0   17290810                Cintas Corporation  12/31/2014         20141231   \n",
       "1   80589M10                 SCANA Corporation  12/31/2014         20141231   \n",
       "2   50241310  L-3 Communications Holdings Inc.  12/31/2014         20141231   \n",
       "3   91301710   United Technologies Corporation  12/31/2014         20141231   \n",
       "4   92939U10      Wisconsin Energy Corporation  12/31/2014         20141231   \n",
       "\n",
       "    Ticker  Universe_Returns_F1W  Universe_Returns_F4W  Universe_Returns_F12W  \\\n",
       "0  CTAS-US             -2.517855             -0.121111               4.156041   \n",
       "1   SCG-US              2.036428              6.307948              -8.426744   \n",
       "2   LLL-US             -0.396162             -1.283580              -0.753021   \n",
       "3   UTX-US             -1.973909              1.669562               1.815629   \n",
       "4   WEC-US              1.118696              7.679176              -6.160975   \n",
       "\n",
       "     Weight  GICS_Sector                        GICS_Ind_Grp  Market_Cap_USD  \\\n",
       "0  0.000402  Industrials  Commercial & Professional Services        7761.120   \n",
       "1  0.000422    Utilities                           Utilities        8151.001   \n",
       "2  0.000563  Industrials                       Capital Goods       10883.341   \n",
       "3  0.005174  Industrials                       Capital Goods       99942.990   \n",
       "4  0.000616    Utilities                           Utilities       11893.872   \n",
       "\n",
       "   Price_USD    NTM_EP   LTM_ROA        BP    LTM_EP  5Y_Sales_Growth  \n",
       "0      78.44  0.044387  9.089989  0.246962  0.042708         4.718765  \n",
       "1      60.40  0.061397  3.472852  0.572871  0.062748        -0.949881  \n",
       "2     126.21  0.060554  4.744629  0.570099  0.059821        -4.316938  \n",
       "3     115.00  0.062889  6.805052  0.325584  0.059088         3.083364  \n",
       "4      52.74  0.051359  4.201019  0.369798  0.050815         1.421392  "
      ]
     },
     "execution_count": 3,
     "metadata": {},
     "output_type": "execute_result"
    }
   ],
   "source": [
    "dataset.head()"
   ]
  },
  {
   "cell_type": "markdown",
   "metadata": {
    "slideshow": {
     "slide_type": "slide"
    }
   },
   "source": [
    "We Inspect the dataset for missing elements"
   ]
  },
  {
   "cell_type": "code",
   "execution_count": 4,
   "metadata": {
    "slideshow": {
     "slide_type": "slide"
    }
   },
   "outputs": [
    {
     "name": "stdout",
     "output_type": "stream",
     "text": [
      "<class 'pandas.core.frame.DataFrame'>\n",
      "RangeIndex: 38304 entries, 0 to 38303\n",
      "Data columns (total 18 columns):\n",
      "Identifier               38304 non-null object\n",
      "Name                     38304 non-null object\n",
      "Period                   38304 non-null object\n",
      "Period_YYYYMMDD          38304 non-null int64\n",
      "Ticker                   38304 non-null object\n",
      "Universe_Returns_F1W     38300 non-null float64\n",
      "Universe_Returns_F4W     38296 non-null float64\n",
      "Universe_Returns_F12W    38268 non-null float64\n",
      "Weight                   38304 non-null float64\n",
      "GICS_Sector              38304 non-null object\n",
      "GICS_Ind_Grp             38304 non-null object\n",
      "Market_Cap_USD           38304 non-null float64\n",
      "Price_USD                38304 non-null float64\n",
      "NTM_EP                   38246 non-null float64\n",
      "LTM_ROA                  38245 non-null float64\n",
      "BP                       38288 non-null float64\n",
      "LTM_EP                   38215 non-null float64\n",
      "5Y_Sales_Growth          38197 non-null float64\n",
      "dtypes: float64(11), int64(1), object(6)\n",
      "memory usage: 5.3+ MB\n"
     ]
    }
   ],
   "source": [
    "dataset.info()"
   ]
  },
  {
   "cell_type": "markdown",
   "metadata": {
    "slideshow": {
     "slide_type": "slide"
    }
   },
   "source": [
    "We Delete all rows with missing elements"
   ]
  },
  {
   "cell_type": "code",
   "execution_count": 5,
   "metadata": {
    "slideshow": {
     "slide_type": "slide"
    }
   },
   "outputs": [
    {
     "name": "stdout",
     "output_type": "stream",
     "text": [
      "<class 'pandas.core.frame.DataFrame'>\n",
      "Int64Index: 38026 entries, 0 to 38303\n",
      "Data columns (total 18 columns):\n",
      "Identifier               38026 non-null object\n",
      "Name                     38026 non-null object\n",
      "Period                   38026 non-null object\n",
      "Period_YYYYMMDD          38026 non-null int64\n",
      "Ticker                   38026 non-null object\n",
      "Universe_Returns_F1W     38026 non-null float64\n",
      "Universe_Returns_F4W     38026 non-null float64\n",
      "Universe_Returns_F12W    38026 non-null float64\n",
      "Weight                   38026 non-null float64\n",
      "GICS_Sector              38026 non-null object\n",
      "GICS_Ind_Grp             38026 non-null object\n",
      "Market_Cap_USD           38026 non-null float64\n",
      "Price_USD                38026 non-null float64\n",
      "NTM_EP                   38026 non-null float64\n",
      "LTM_ROA                  38026 non-null float64\n",
      "BP                       38026 non-null float64\n",
      "LTM_EP                   38026 non-null float64\n",
      "5Y_Sales_Growth          38026 non-null float64\n",
      "dtypes: float64(11), int64(1), object(6)\n",
      "memory usage: 5.5+ MB\n"
     ]
    }
   ],
   "source": [
    "dataset = dataset.dropna()\n",
    "dataset.info()"
   ]
  },
  {
   "cell_type": "markdown",
   "metadata": {
    "slideshow": {
     "slide_type": "slide"
    }
   },
   "source": [
    "Seperate out the target variable and features"
   ]
  },
  {
   "cell_type": "code",
   "execution_count": 6,
   "metadata": {
    "slideshow": {
     "slide_type": "fragment"
    }
   },
   "outputs": [],
   "source": [
    "X = dataset.loc[:, dataset.columns != '5Y_Sales_Growth']\n",
    "y = dataset['5Y_Sales_Growth']"
   ]
  },
  {
   "cell_type": "markdown",
   "metadata": {
    "slideshow": {
     "slide_type": "slide"
    }
   },
   "source": [
    "create the dummy variable from categorical variable"
   ]
  },
  {
   "cell_type": "code",
   "execution_count": 7,
   "metadata": {
    "slideshow": {
     "slide_type": "fragment"
    }
   },
   "outputs": [
    {
     "data": {
      "text/html": [
       "<div>\n",
       "<style scoped>\n",
       "    .dataframe tbody tr th:only-of-type {\n",
       "        vertical-align: middle;\n",
       "    }\n",
       "\n",
       "    .dataframe tbody tr th {\n",
       "        vertical-align: top;\n",
       "    }\n",
       "\n",
       "    .dataframe thead th {\n",
       "        text-align: right;\n",
       "    }\n",
       "</style>\n",
       "<table border=\"1\" class=\"dataframe\">\n",
       "  <thead>\n",
       "    <tr style=\"text-align: right;\">\n",
       "      <th></th>\n",
       "      <th>Sector__Communication Services</th>\n",
       "      <th>Sector__Consumer Discretionary</th>\n",
       "      <th>Sector__Consumer Staples</th>\n",
       "      <th>Sector__Energy</th>\n",
       "      <th>Sector__Financials</th>\n",
       "      <th>Sector__Health Care</th>\n",
       "      <th>Sector__Industrials</th>\n",
       "      <th>Sector__Information Technology</th>\n",
       "      <th>Sector__Materials</th>\n",
       "      <th>Sector__Real Estate</th>\n",
       "      <th>Sector__Utilities</th>\n",
       "    </tr>\n",
       "  </thead>\n",
       "  <tbody>\n",
       "    <tr>\n",
       "      <th>0</th>\n",
       "      <td>0</td>\n",
       "      <td>0</td>\n",
       "      <td>0</td>\n",
       "      <td>0</td>\n",
       "      <td>0</td>\n",
       "      <td>0</td>\n",
       "      <td>1</td>\n",
       "      <td>0</td>\n",
       "      <td>0</td>\n",
       "      <td>0</td>\n",
       "      <td>0</td>\n",
       "    </tr>\n",
       "    <tr>\n",
       "      <th>1</th>\n",
       "      <td>0</td>\n",
       "      <td>0</td>\n",
       "      <td>0</td>\n",
       "      <td>0</td>\n",
       "      <td>0</td>\n",
       "      <td>0</td>\n",
       "      <td>0</td>\n",
       "      <td>0</td>\n",
       "      <td>0</td>\n",
       "      <td>0</td>\n",
       "      <td>1</td>\n",
       "    </tr>\n",
       "    <tr>\n",
       "      <th>2</th>\n",
       "      <td>0</td>\n",
       "      <td>0</td>\n",
       "      <td>0</td>\n",
       "      <td>0</td>\n",
       "      <td>0</td>\n",
       "      <td>0</td>\n",
       "      <td>1</td>\n",
       "      <td>0</td>\n",
       "      <td>0</td>\n",
       "      <td>0</td>\n",
       "      <td>0</td>\n",
       "    </tr>\n",
       "    <tr>\n",
       "      <th>3</th>\n",
       "      <td>0</td>\n",
       "      <td>0</td>\n",
       "      <td>0</td>\n",
       "      <td>0</td>\n",
       "      <td>0</td>\n",
       "      <td>0</td>\n",
       "      <td>1</td>\n",
       "      <td>0</td>\n",
       "      <td>0</td>\n",
       "      <td>0</td>\n",
       "      <td>0</td>\n",
       "    </tr>\n",
       "    <tr>\n",
       "      <th>4</th>\n",
       "      <td>0</td>\n",
       "      <td>0</td>\n",
       "      <td>0</td>\n",
       "      <td>0</td>\n",
       "      <td>0</td>\n",
       "      <td>0</td>\n",
       "      <td>0</td>\n",
       "      <td>0</td>\n",
       "      <td>0</td>\n",
       "      <td>0</td>\n",
       "      <td>1</td>\n",
       "    </tr>\n",
       "  </tbody>\n",
       "</table>\n",
       "</div>"
      ],
      "text/plain": [
       "   Sector__Communication Services  Sector__Consumer Discretionary  \\\n",
       "0                               0                               0   \n",
       "1                               0                               0   \n",
       "2                               0                               0   \n",
       "3                               0                               0   \n",
       "4                               0                               0   \n",
       "\n",
       "   Sector__Consumer Staples  Sector__Energy  Sector__Financials  \\\n",
       "0                         0               0                   0   \n",
       "1                         0               0                   0   \n",
       "2                         0               0                   0   \n",
       "3                         0               0                   0   \n",
       "4                         0               0                   0   \n",
       "\n",
       "   Sector__Health Care  Sector__Industrials  Sector__Information Technology  \\\n",
       "0                    0                    1                               0   \n",
       "1                    0                    0                               0   \n",
       "2                    0                    1                               0   \n",
       "3                    0                    1                               0   \n",
       "4                    0                    0                               0   \n",
       "\n",
       "   Sector__Materials  Sector__Real Estate  Sector__Utilities  \n",
       "0                  0                    0                  0  \n",
       "1                  0                    0                  1  \n",
       "2                  0                    0                  0  \n",
       "3                  0                    0                  0  \n",
       "4                  0                    0                  1  "
      ]
     },
     "execution_count": 7,
     "metadata": {},
     "output_type": "execute_result"
    }
   ],
   "source": [
    "dummies = pd.get_dummies(X['GICS_Sector'], prefix='Sector_')\n",
    "dummies.head()"
   ]
  },
  {
   "cell_type": "markdown",
   "metadata": {
    "slideshow": {
     "slide_type": "slide"
    }
   },
   "source": [
    "Replace the categorical variable with the newly derived variable"
   ]
  },
  {
   "cell_type": "code",
   "execution_count": 8,
   "metadata": {
    "slideshow": {
     "slide_type": "fragment"
    }
   },
   "outputs": [],
   "source": [
    "X = pd.concat([X.loc[:, X.columns != 'GICS_Sector'], dummies], axis=1)"
   ]
  },
  {
   "cell_type": "code",
   "execution_count": 9,
   "metadata": {
    "slideshow": {
     "slide_type": "fragment"
    }
   },
   "outputs": [
    {
     "data": {
      "text/html": [
       "<div>\n",
       "<style scoped>\n",
       "    .dataframe tbody tr th:only-of-type {\n",
       "        vertical-align: middle;\n",
       "    }\n",
       "\n",
       "    .dataframe tbody tr th {\n",
       "        vertical-align: top;\n",
       "    }\n",
       "\n",
       "    .dataframe thead th {\n",
       "        text-align: right;\n",
       "    }\n",
       "</style>\n",
       "<table border=\"1\" class=\"dataframe\">\n",
       "  <thead>\n",
       "    <tr style=\"text-align: right;\">\n",
       "      <th></th>\n",
       "      <th>Identifier</th>\n",
       "      <th>Name</th>\n",
       "      <th>Period</th>\n",
       "      <th>Period_YYYYMMDD</th>\n",
       "      <th>Ticker</th>\n",
       "      <th>Universe_Returns_F1W</th>\n",
       "      <th>Universe_Returns_F4W</th>\n",
       "      <th>Universe_Returns_F12W</th>\n",
       "      <th>Weight</th>\n",
       "      <th>GICS_Ind_Grp</th>\n",
       "      <th>...</th>\n",
       "      <th>Sector__Consumer Discretionary</th>\n",
       "      <th>Sector__Consumer Staples</th>\n",
       "      <th>Sector__Energy</th>\n",
       "      <th>Sector__Financials</th>\n",
       "      <th>Sector__Health Care</th>\n",
       "      <th>Sector__Industrials</th>\n",
       "      <th>Sector__Information Technology</th>\n",
       "      <th>Sector__Materials</th>\n",
       "      <th>Sector__Real Estate</th>\n",
       "      <th>Sector__Utilities</th>\n",
       "    </tr>\n",
       "  </thead>\n",
       "  <tbody>\n",
       "    <tr>\n",
       "      <th>0</th>\n",
       "      <td>17290810</td>\n",
       "      <td>Cintas Corporation</td>\n",
       "      <td>12/31/2014</td>\n",
       "      <td>20141231</td>\n",
       "      <td>CTAS-US</td>\n",
       "      <td>-2.517855</td>\n",
       "      <td>-0.121111</td>\n",
       "      <td>4.156041</td>\n",
       "      <td>0.000402</td>\n",
       "      <td>Commercial &amp; Professional Services</td>\n",
       "      <td>...</td>\n",
       "      <td>0</td>\n",
       "      <td>0</td>\n",
       "      <td>0</td>\n",
       "      <td>0</td>\n",
       "      <td>0</td>\n",
       "      <td>1</td>\n",
       "      <td>0</td>\n",
       "      <td>0</td>\n",
       "      <td>0</td>\n",
       "      <td>0</td>\n",
       "    </tr>\n",
       "    <tr>\n",
       "      <th>1</th>\n",
       "      <td>80589M10</td>\n",
       "      <td>SCANA Corporation</td>\n",
       "      <td>12/31/2014</td>\n",
       "      <td>20141231</td>\n",
       "      <td>SCG-US</td>\n",
       "      <td>2.036428</td>\n",
       "      <td>6.307948</td>\n",
       "      <td>-8.426744</td>\n",
       "      <td>0.000422</td>\n",
       "      <td>Utilities</td>\n",
       "      <td>...</td>\n",
       "      <td>0</td>\n",
       "      <td>0</td>\n",
       "      <td>0</td>\n",
       "      <td>0</td>\n",
       "      <td>0</td>\n",
       "      <td>0</td>\n",
       "      <td>0</td>\n",
       "      <td>0</td>\n",
       "      <td>0</td>\n",
       "      <td>1</td>\n",
       "    </tr>\n",
       "    <tr>\n",
       "      <th>2</th>\n",
       "      <td>50241310</td>\n",
       "      <td>L-3 Communications Holdings Inc.</td>\n",
       "      <td>12/31/2014</td>\n",
       "      <td>20141231</td>\n",
       "      <td>LLL-US</td>\n",
       "      <td>-0.396162</td>\n",
       "      <td>-1.283580</td>\n",
       "      <td>-0.753021</td>\n",
       "      <td>0.000563</td>\n",
       "      <td>Capital Goods</td>\n",
       "      <td>...</td>\n",
       "      <td>0</td>\n",
       "      <td>0</td>\n",
       "      <td>0</td>\n",
       "      <td>0</td>\n",
       "      <td>0</td>\n",
       "      <td>1</td>\n",
       "      <td>0</td>\n",
       "      <td>0</td>\n",
       "      <td>0</td>\n",
       "      <td>0</td>\n",
       "    </tr>\n",
       "    <tr>\n",
       "      <th>3</th>\n",
       "      <td>91301710</td>\n",
       "      <td>United Technologies Corporation</td>\n",
       "      <td>12/31/2014</td>\n",
       "      <td>20141231</td>\n",
       "      <td>UTX-US</td>\n",
       "      <td>-1.973909</td>\n",
       "      <td>1.669562</td>\n",
       "      <td>1.815629</td>\n",
       "      <td>0.005174</td>\n",
       "      <td>Capital Goods</td>\n",
       "      <td>...</td>\n",
       "      <td>0</td>\n",
       "      <td>0</td>\n",
       "      <td>0</td>\n",
       "      <td>0</td>\n",
       "      <td>0</td>\n",
       "      <td>1</td>\n",
       "      <td>0</td>\n",
       "      <td>0</td>\n",
       "      <td>0</td>\n",
       "      <td>0</td>\n",
       "    </tr>\n",
       "    <tr>\n",
       "      <th>4</th>\n",
       "      <td>92939U10</td>\n",
       "      <td>Wisconsin Energy Corporation</td>\n",
       "      <td>12/31/2014</td>\n",
       "      <td>20141231</td>\n",
       "      <td>WEC-US</td>\n",
       "      <td>1.118696</td>\n",
       "      <td>7.679176</td>\n",
       "      <td>-6.160975</td>\n",
       "      <td>0.000616</td>\n",
       "      <td>Utilities</td>\n",
       "      <td>...</td>\n",
       "      <td>0</td>\n",
       "      <td>0</td>\n",
       "      <td>0</td>\n",
       "      <td>0</td>\n",
       "      <td>0</td>\n",
       "      <td>0</td>\n",
       "      <td>0</td>\n",
       "      <td>0</td>\n",
       "      <td>0</td>\n",
       "      <td>1</td>\n",
       "    </tr>\n",
       "  </tbody>\n",
       "</table>\n",
       "<p>5 rows × 27 columns</p>\n",
       "</div>"
      ],
      "text/plain": [
       "  Identifier                              Name      Period  Period_YYYYMMDD  \\\n",
       "0   17290810                Cintas Corporation  12/31/2014         20141231   \n",
       "1   80589M10                 SCANA Corporation  12/31/2014         20141231   \n",
       "2   50241310  L-3 Communications Holdings Inc.  12/31/2014         20141231   \n",
       "3   91301710   United Technologies Corporation  12/31/2014         20141231   \n",
       "4   92939U10      Wisconsin Energy Corporation  12/31/2014         20141231   \n",
       "\n",
       "    Ticker  Universe_Returns_F1W  Universe_Returns_F4W  Universe_Returns_F12W  \\\n",
       "0  CTAS-US             -2.517855             -0.121111               4.156041   \n",
       "1   SCG-US              2.036428              6.307948              -8.426744   \n",
       "2   LLL-US             -0.396162             -1.283580              -0.753021   \n",
       "3   UTX-US             -1.973909              1.669562               1.815629   \n",
       "4   WEC-US              1.118696              7.679176              -6.160975   \n",
       "\n",
       "     Weight                        GICS_Ind_Grp  ...  \\\n",
       "0  0.000402  Commercial & Professional Services  ...   \n",
       "1  0.000422                           Utilities  ...   \n",
       "2  0.000563                       Capital Goods  ...   \n",
       "3  0.005174                       Capital Goods  ...   \n",
       "4  0.000616                           Utilities  ...   \n",
       "\n",
       "   Sector__Consumer Discretionary  Sector__Consumer Staples  Sector__Energy  \\\n",
       "0                               0                         0               0   \n",
       "1                               0                         0               0   \n",
       "2                               0                         0               0   \n",
       "3                               0                         0               0   \n",
       "4                               0                         0               0   \n",
       "\n",
       "   Sector__Financials  Sector__Health Care  Sector__Industrials  \\\n",
       "0                   0                    0                    1   \n",
       "1                   0                    0                    0   \n",
       "2                   0                    0                    1   \n",
       "3                   0                    0                    1   \n",
       "4                   0                    0                    0   \n",
       "\n",
       "   Sector__Information Technology  Sector__Materials  Sector__Real Estate  \\\n",
       "0                               0                  0                    0   \n",
       "1                               0                  0                    0   \n",
       "2                               0                  0                    0   \n",
       "3                               0                  0                    0   \n",
       "4                               0                  0                    0   \n",
       "\n",
       "   Sector__Utilities  \n",
       "0                  0  \n",
       "1                  1  \n",
       "2                  0  \n",
       "3                  0  \n",
       "4                  1  \n",
       "\n",
       "[5 rows x 27 columns]"
      ]
     },
     "execution_count": 9,
     "metadata": {},
     "output_type": "execute_result"
    }
   ],
   "source": [
    "X.head()"
   ]
  },
  {
   "cell_type": "code",
   "execution_count": 10,
   "metadata": {
    "slideshow": {
     "slide_type": "slide"
    }
   },
   "outputs": [
    {
     "data": {
      "text/html": [
       "<div>\n",
       "<style scoped>\n",
       "    .dataframe tbody tr th:only-of-type {\n",
       "        vertical-align: middle;\n",
       "    }\n",
       "\n",
       "    .dataframe tbody tr th {\n",
       "        vertical-align: top;\n",
       "    }\n",
       "\n",
       "    .dataframe thead th {\n",
       "        text-align: right;\n",
       "    }\n",
       "</style>\n",
       "<table border=\"1\" class=\"dataframe\">\n",
       "  <thead>\n",
       "    <tr style=\"text-align: right;\">\n",
       "      <th></th>\n",
       "      <th>Period_YYYYMMDD</th>\n",
       "      <th>Universe_Returns_F1W</th>\n",
       "      <th>Universe_Returns_F4W</th>\n",
       "      <th>Universe_Returns_F12W</th>\n",
       "      <th>Weight</th>\n",
       "      <th>Market_Cap_USD</th>\n",
       "      <th>Price_USD</th>\n",
       "      <th>NTM_EP</th>\n",
       "      <th>LTM_ROA</th>\n",
       "      <th>BP</th>\n",
       "      <th>LTM_EP</th>\n",
       "      <th>Sector__Communication Services</th>\n",
       "      <th>Sector__Consumer Discretionary</th>\n",
       "      <th>Sector__Consumer Staples</th>\n",
       "      <th>Sector__Energy</th>\n",
       "      <th>Sector__Financials</th>\n",
       "      <th>Sector__Industrials</th>\n",
       "      <th>Sector__Real Estate</th>\n",
       "      <th>Sector__Utilities</th>\n",
       "    </tr>\n",
       "  </thead>\n",
       "  <tbody>\n",
       "    <tr>\n",
       "      <th>0</th>\n",
       "      <td>20141231</td>\n",
       "      <td>-2.517855</td>\n",
       "      <td>-0.121111</td>\n",
       "      <td>4.156041</td>\n",
       "      <td>0.000402</td>\n",
       "      <td>7761.120</td>\n",
       "      <td>78.44</td>\n",
       "      <td>0.044387</td>\n",
       "      <td>9.089989</td>\n",
       "      <td>0.246962</td>\n",
       "      <td>0.042708</td>\n",
       "      <td>0</td>\n",
       "      <td>0</td>\n",
       "      <td>0</td>\n",
       "      <td>0</td>\n",
       "      <td>0</td>\n",
       "      <td>1</td>\n",
       "      <td>0</td>\n",
       "      <td>0</td>\n",
       "    </tr>\n",
       "    <tr>\n",
       "      <th>1</th>\n",
       "      <td>20141231</td>\n",
       "      <td>2.036428</td>\n",
       "      <td>6.307948</td>\n",
       "      <td>-8.426744</td>\n",
       "      <td>0.000422</td>\n",
       "      <td>8151.001</td>\n",
       "      <td>60.40</td>\n",
       "      <td>0.061397</td>\n",
       "      <td>3.472852</td>\n",
       "      <td>0.572871</td>\n",
       "      <td>0.062748</td>\n",
       "      <td>0</td>\n",
       "      <td>0</td>\n",
       "      <td>0</td>\n",
       "      <td>0</td>\n",
       "      <td>0</td>\n",
       "      <td>0</td>\n",
       "      <td>0</td>\n",
       "      <td>1</td>\n",
       "    </tr>\n",
       "    <tr>\n",
       "      <th>2</th>\n",
       "      <td>20141231</td>\n",
       "      <td>-0.396162</td>\n",
       "      <td>-1.283580</td>\n",
       "      <td>-0.753021</td>\n",
       "      <td>0.000563</td>\n",
       "      <td>10883.341</td>\n",
       "      <td>126.21</td>\n",
       "      <td>0.060554</td>\n",
       "      <td>4.744629</td>\n",
       "      <td>0.570099</td>\n",
       "      <td>0.059821</td>\n",
       "      <td>0</td>\n",
       "      <td>0</td>\n",
       "      <td>0</td>\n",
       "      <td>0</td>\n",
       "      <td>0</td>\n",
       "      <td>1</td>\n",
       "      <td>0</td>\n",
       "      <td>0</td>\n",
       "    </tr>\n",
       "    <tr>\n",
       "      <th>3</th>\n",
       "      <td>20141231</td>\n",
       "      <td>-1.973909</td>\n",
       "      <td>1.669562</td>\n",
       "      <td>1.815629</td>\n",
       "      <td>0.005174</td>\n",
       "      <td>99942.990</td>\n",
       "      <td>115.00</td>\n",
       "      <td>0.062889</td>\n",
       "      <td>6.805052</td>\n",
       "      <td>0.325584</td>\n",
       "      <td>0.059088</td>\n",
       "      <td>0</td>\n",
       "      <td>0</td>\n",
       "      <td>0</td>\n",
       "      <td>0</td>\n",
       "      <td>0</td>\n",
       "      <td>1</td>\n",
       "      <td>0</td>\n",
       "      <td>0</td>\n",
       "    </tr>\n",
       "    <tr>\n",
       "      <th>4</th>\n",
       "      <td>20141231</td>\n",
       "      <td>1.118696</td>\n",
       "      <td>7.679176</td>\n",
       "      <td>-6.160975</td>\n",
       "      <td>0.000616</td>\n",
       "      <td>11893.872</td>\n",
       "      <td>52.74</td>\n",
       "      <td>0.051359</td>\n",
       "      <td>4.201019</td>\n",
       "      <td>0.369798</td>\n",
       "      <td>0.050815</td>\n",
       "      <td>0</td>\n",
       "      <td>0</td>\n",
       "      <td>0</td>\n",
       "      <td>0</td>\n",
       "      <td>0</td>\n",
       "      <td>0</td>\n",
       "      <td>0</td>\n",
       "      <td>1</td>\n",
       "    </tr>\n",
       "  </tbody>\n",
       "</table>\n",
       "</div>"
      ],
      "text/plain": [
       "   Period_YYYYMMDD  Universe_Returns_F1W  Universe_Returns_F4W  \\\n",
       "0         20141231             -2.517855             -0.121111   \n",
       "1         20141231              2.036428              6.307948   \n",
       "2         20141231             -0.396162             -1.283580   \n",
       "3         20141231             -1.973909              1.669562   \n",
       "4         20141231              1.118696              7.679176   \n",
       "\n",
       "   Universe_Returns_F12W    Weight  Market_Cap_USD  Price_USD    NTM_EP  \\\n",
       "0               4.156041  0.000402        7761.120      78.44  0.044387   \n",
       "1              -8.426744  0.000422        8151.001      60.40  0.061397   \n",
       "2              -0.753021  0.000563       10883.341     126.21  0.060554   \n",
       "3               1.815629  0.005174       99942.990     115.00  0.062889   \n",
       "4              -6.160975  0.000616       11893.872      52.74  0.051359   \n",
       "\n",
       "    LTM_ROA        BP    LTM_EP  Sector__Communication Services  \\\n",
       "0  9.089989  0.246962  0.042708                               0   \n",
       "1  3.472852  0.572871  0.062748                               0   \n",
       "2  4.744629  0.570099  0.059821                               0   \n",
       "3  6.805052  0.325584  0.059088                               0   \n",
       "4  4.201019  0.369798  0.050815                               0   \n",
       "\n",
       "   Sector__Consumer Discretionary  Sector__Consumer Staples  Sector__Energy  \\\n",
       "0                               0                         0               0   \n",
       "1                               0                         0               0   \n",
       "2                               0                         0               0   \n",
       "3                               0                         0               0   \n",
       "4                               0                         0               0   \n",
       "\n",
       "   Sector__Financials  Sector__Industrials  Sector__Real Estate  \\\n",
       "0                   0                    1                    0   \n",
       "1                   0                    0                    0   \n",
       "2                   0                    1                    0   \n",
       "3                   0                    1                    0   \n",
       "4                   0                    0                    0   \n",
       "\n",
       "   Sector__Utilities  \n",
       "0                  0  \n",
       "1                  1  \n",
       "2                  0  \n",
       "3                  0  \n",
       "4                  1  "
      ]
     },
     "execution_count": 10,
     "metadata": {},
     "output_type": "execute_result"
    }
   ],
   "source": [
    "X = X.drop(['Sector__Materials','Sector__Information Technology', 'Sector__Health Care','Identifier','Name', 'Period', 'GICS_Ind_Grp', 'Ticker']  , axis=1)\n",
    "X.head()"
   ]
  },
  {
   "cell_type": "markdown",
   "metadata": {
    "slideshow": {
     "slide_type": "slide"
    }
   },
   "source": [
    "We then create a random split of our data set with one third as test data set"
   ]
  },
  {
   "cell_type": "code",
   "execution_count": 11,
   "metadata": {
    "slideshow": {
     "slide_type": "fragment"
    }
   },
   "outputs": [],
   "source": [
    "from sklearn.model_selection import train_test_split\n",
    "X_train, X_test, y_train, y_test = train_test_split(X, y, test_size=0.2, random_state=0)"
   ]
  },
  {
   "cell_type": "markdown",
   "metadata": {
    "slideshow": {
     "slide_type": "slide"
    }
   },
   "source": [
    "$$\n",
    "\\large y = \\large \\beta + \\large \\alpha_1 x_1 + \\large \\alpha_2 x_2 +...+ \\large \\alpha_n x_n\n",
    "$$\n",
    "\n",
    "\n",
    "$x_i$ represents the feature which in our case is R&D SPend, Admininstration etc. "
   ]
  },
  {
   "cell_type": "markdown",
   "metadata": {
    "slideshow": {
     "slide_type": "slide"
    }
   },
   "source": [
    "Then, fit the model to all the features in the data"
   ]
  },
  {
   "cell_type": "code",
   "execution_count": 12,
   "metadata": {
    "slideshow": {
     "slide_type": "fragment"
    }
   },
   "outputs": [],
   "source": [
    "from sklearn.linear_model import LinearRegression\n",
    "regressor = LinearRegression()"
   ]
  },
  {
   "cell_type": "code",
   "execution_count": 13,
   "metadata": {
    "slideshow": {
     "slide_type": "fragment"
    }
   },
   "outputs": [
    {
     "data": {
      "text/plain": [
       "LinearRegression(copy_X=True, fit_intercept=True, n_jobs=1, normalize=False)"
      ]
     },
     "execution_count": 13,
     "metadata": {},
     "output_type": "execute_result"
    }
   ],
   "source": [
    "regressor.fit(X_train, y_train)"
   ]
  },
  {
   "cell_type": "markdown",
   "metadata": {
    "slideshow": {
     "slide_type": "slide"
    }
   },
   "source": [
    "Finally, make some predictions"
   ]
  },
  {
   "cell_type": "code",
   "execution_count": 14,
   "metadata": {
    "slideshow": {
     "slide_type": "fragment"
    }
   },
   "outputs": [],
   "source": [
    "y_pred = regressor.predict(X_test)"
   ]
  },
  {
   "cell_type": "markdown",
   "metadata": {
    "slideshow": {
     "slide_type": "slide"
    }
   },
   "source": [
    "How to select the most relevant features for prediction"
   ]
  },
  {
   "cell_type": "code",
   "execution_count": 15,
   "metadata": {
    "slideshow": {
     "slide_type": "fragment"
    }
   },
   "outputs": [],
   "source": [
    "from sklearn.feature_selection import RFECV"
   ]
  },
  {
   "cell_type": "code",
   "execution_count": 16,
   "metadata": {
    "slideshow": {
     "slide_type": "fragment"
    }
   },
   "outputs": [
    {
     "data": {
      "text/plain": [
       "RFECV(cv=10,\n",
       "   estimator=LinearRegression(copy_X=True, fit_intercept=True, n_jobs=1, normalize=False),\n",
       "   n_jobs=1, scoring=None, step=1, verbose=0)"
      ]
     },
     "execution_count": 16,
     "metadata": {},
     "output_type": "execute_result"
    }
   ],
   "source": [
    "lr = LinearRegression()\n",
    "selector = RFECV(lr,cv=10) # 10 fold cross validation\n",
    "selector.fit(X_train, y_train)"
   ]
  },
  {
   "cell_type": "markdown",
   "metadata": {
    "slideshow": {
     "slide_type": "slide"
    }
   },
   "source": [
    "![Cross Validation](../../img/cross.jpg)"
   ]
  },
  {
   "cell_type": "code",
   "execution_count": 17,
   "metadata": {
    "slideshow": {
     "slide_type": "slide"
    }
   },
   "outputs": [
    {
     "data": {
      "text/plain": [
       "Index(['Weight'], dtype='object')"
      ]
     },
     "execution_count": 17,
     "metadata": {},
     "output_type": "execute_result"
    }
   ],
   "source": [
    "optimized_columns = X_train.columns[selector.support_]\n",
    "optimized_columns"
   ]
  },
  {
   "cell_type": "code",
   "execution_count": 18,
   "metadata": {
    "scrolled": true,
    "slideshow": {
     "slide_type": "fragment"
    }
   },
   "outputs": [
    {
     "data": {
      "text/plain": [
       "array([19, 15, 16, 14,  1, 18, 17,  2, 10,  5,  3,  8, 12, 13,  6,  9, 11,\n",
       "        4,  7])"
      ]
     },
     "execution_count": 18,
     "metadata": {},
     "output_type": "execute_result"
    }
   ],
   "source": [
    "selector.ranking_"
   ]
  },
  {
   "cell_type": "code",
   "execution_count": 19,
   "metadata": {
    "slideshow": {
     "slide_type": "slide"
    }
   },
   "outputs": [],
   "source": [
    "import statsmodels.formula.api as sm"
   ]
  },
  {
   "cell_type": "code",
   "execution_count": 20,
   "metadata": {
    "slideshow": {
     "slide_type": "fragment"
    }
   },
   "outputs": [
    {
     "data": {
      "text/html": [
       "<div>\n",
       "<style scoped>\n",
       "    .dataframe tbody tr th:only-of-type {\n",
       "        vertical-align: middle;\n",
       "    }\n",
       "\n",
       "    .dataframe tbody tr th {\n",
       "        vertical-align: top;\n",
       "    }\n",
       "\n",
       "    .dataframe thead th {\n",
       "        text-align: right;\n",
       "    }\n",
       "</style>\n",
       "<table border=\"1\" class=\"dataframe\">\n",
       "  <thead>\n",
       "    <tr style=\"text-align: right;\">\n",
       "      <th></th>\n",
       "      <th>Period_YYYYMMDD</th>\n",
       "      <th>Universe_Returns_F1W</th>\n",
       "      <th>Universe_Returns_F4W</th>\n",
       "      <th>Universe_Returns_F12W</th>\n",
       "      <th>Weight</th>\n",
       "      <th>Market_Cap_USD</th>\n",
       "      <th>Price_USD</th>\n",
       "      <th>NTM_EP</th>\n",
       "      <th>LTM_ROA</th>\n",
       "      <th>BP</th>\n",
       "      <th>LTM_EP</th>\n",
       "      <th>Sector__Communication Services</th>\n",
       "      <th>Sector__Consumer Discretionary</th>\n",
       "      <th>Sector__Consumer Staples</th>\n",
       "      <th>Sector__Energy</th>\n",
       "      <th>Sector__Financials</th>\n",
       "      <th>Sector__Industrials</th>\n",
       "      <th>Sector__Real Estate</th>\n",
       "      <th>Sector__Utilities</th>\n",
       "      <th>constant</th>\n",
       "    </tr>\n",
       "  </thead>\n",
       "  <tbody>\n",
       "    <tr>\n",
       "      <th>0</th>\n",
       "      <td>20141231</td>\n",
       "      <td>-2.517855</td>\n",
       "      <td>-0.121111</td>\n",
       "      <td>4.156041</td>\n",
       "      <td>0.000402</td>\n",
       "      <td>7761.120</td>\n",
       "      <td>78.44</td>\n",
       "      <td>0.044387</td>\n",
       "      <td>9.089989</td>\n",
       "      <td>0.246962</td>\n",
       "      <td>0.042708</td>\n",
       "      <td>0</td>\n",
       "      <td>0</td>\n",
       "      <td>0</td>\n",
       "      <td>0</td>\n",
       "      <td>0</td>\n",
       "      <td>1</td>\n",
       "      <td>0</td>\n",
       "      <td>0</td>\n",
       "      <td>1</td>\n",
       "    </tr>\n",
       "    <tr>\n",
       "      <th>1</th>\n",
       "      <td>20141231</td>\n",
       "      <td>2.036428</td>\n",
       "      <td>6.307948</td>\n",
       "      <td>-8.426744</td>\n",
       "      <td>0.000422</td>\n",
       "      <td>8151.001</td>\n",
       "      <td>60.40</td>\n",
       "      <td>0.061397</td>\n",
       "      <td>3.472852</td>\n",
       "      <td>0.572871</td>\n",
       "      <td>0.062748</td>\n",
       "      <td>0</td>\n",
       "      <td>0</td>\n",
       "      <td>0</td>\n",
       "      <td>0</td>\n",
       "      <td>0</td>\n",
       "      <td>0</td>\n",
       "      <td>0</td>\n",
       "      <td>1</td>\n",
       "      <td>1</td>\n",
       "    </tr>\n",
       "    <tr>\n",
       "      <th>2</th>\n",
       "      <td>20141231</td>\n",
       "      <td>-0.396162</td>\n",
       "      <td>-1.283580</td>\n",
       "      <td>-0.753021</td>\n",
       "      <td>0.000563</td>\n",
       "      <td>10883.341</td>\n",
       "      <td>126.21</td>\n",
       "      <td>0.060554</td>\n",
       "      <td>4.744629</td>\n",
       "      <td>0.570099</td>\n",
       "      <td>0.059821</td>\n",
       "      <td>0</td>\n",
       "      <td>0</td>\n",
       "      <td>0</td>\n",
       "      <td>0</td>\n",
       "      <td>0</td>\n",
       "      <td>1</td>\n",
       "      <td>0</td>\n",
       "      <td>0</td>\n",
       "      <td>1</td>\n",
       "    </tr>\n",
       "    <tr>\n",
       "      <th>3</th>\n",
       "      <td>20141231</td>\n",
       "      <td>-1.973909</td>\n",
       "      <td>1.669562</td>\n",
       "      <td>1.815629</td>\n",
       "      <td>0.005174</td>\n",
       "      <td>99942.990</td>\n",
       "      <td>115.00</td>\n",
       "      <td>0.062889</td>\n",
       "      <td>6.805052</td>\n",
       "      <td>0.325584</td>\n",
       "      <td>0.059088</td>\n",
       "      <td>0</td>\n",
       "      <td>0</td>\n",
       "      <td>0</td>\n",
       "      <td>0</td>\n",
       "      <td>0</td>\n",
       "      <td>1</td>\n",
       "      <td>0</td>\n",
       "      <td>0</td>\n",
       "      <td>1</td>\n",
       "    </tr>\n",
       "    <tr>\n",
       "      <th>4</th>\n",
       "      <td>20141231</td>\n",
       "      <td>1.118696</td>\n",
       "      <td>7.679176</td>\n",
       "      <td>-6.160975</td>\n",
       "      <td>0.000616</td>\n",
       "      <td>11893.872</td>\n",
       "      <td>52.74</td>\n",
       "      <td>0.051359</td>\n",
       "      <td>4.201019</td>\n",
       "      <td>0.369798</td>\n",
       "      <td>0.050815</td>\n",
       "      <td>0</td>\n",
       "      <td>0</td>\n",
       "      <td>0</td>\n",
       "      <td>0</td>\n",
       "      <td>0</td>\n",
       "      <td>0</td>\n",
       "      <td>0</td>\n",
       "      <td>1</td>\n",
       "      <td>1</td>\n",
       "    </tr>\n",
       "  </tbody>\n",
       "</table>\n",
       "</div>"
      ],
      "text/plain": [
       "   Period_YYYYMMDD  Universe_Returns_F1W  Universe_Returns_F4W  \\\n",
       "0         20141231             -2.517855             -0.121111   \n",
       "1         20141231              2.036428              6.307948   \n",
       "2         20141231             -0.396162             -1.283580   \n",
       "3         20141231             -1.973909              1.669562   \n",
       "4         20141231              1.118696              7.679176   \n",
       "\n",
       "   Universe_Returns_F12W    Weight  Market_Cap_USD  Price_USD    NTM_EP  \\\n",
       "0               4.156041  0.000402        7761.120      78.44  0.044387   \n",
       "1              -8.426744  0.000422        8151.001      60.40  0.061397   \n",
       "2              -0.753021  0.000563       10883.341     126.21  0.060554   \n",
       "3               1.815629  0.005174       99942.990     115.00  0.062889   \n",
       "4              -6.160975  0.000616       11893.872      52.74  0.051359   \n",
       "\n",
       "    LTM_ROA        BP    LTM_EP  Sector__Communication Services  \\\n",
       "0  9.089989  0.246962  0.042708                               0   \n",
       "1  3.472852  0.572871  0.062748                               0   \n",
       "2  4.744629  0.570099  0.059821                               0   \n",
       "3  6.805052  0.325584  0.059088                               0   \n",
       "4  4.201019  0.369798  0.050815                               0   \n",
       "\n",
       "   Sector__Consumer Discretionary  Sector__Consumer Staples  Sector__Energy  \\\n",
       "0                               0                         0               0   \n",
       "1                               0                         0               0   \n",
       "2                               0                         0               0   \n",
       "3                               0                         0               0   \n",
       "4                               0                         0               0   \n",
       "\n",
       "   Sector__Financials  Sector__Industrials  Sector__Real Estate  \\\n",
       "0                   0                    1                    0   \n",
       "1                   0                    0                    0   \n",
       "2                   0                    1                    0   \n",
       "3                   0                    1                    0   \n",
       "4                   0                    0                    0   \n",
       "\n",
       "   Sector__Utilities  constant  \n",
       "0                  0         1  \n",
       "1                  1         1  \n",
       "2                  0         1  \n",
       "3                  0         1  \n",
       "4                  1         1  "
      ]
     },
     "execution_count": 20,
     "metadata": {},
     "output_type": "execute_result"
    }
   ],
   "source": [
    "X['constant'] = np.ones(len(X)).astype(int)\n",
    "X.head()"
   ]
  },
  {
   "cell_type": "code",
   "execution_count": 21,
   "metadata": {
    "slideshow": {
     "slide_type": "skip"
    }
   },
   "outputs": [],
   "source": [
    "X_opt = X"
   ]
  },
  {
   "cell_type": "code",
   "execution_count": 22,
   "metadata": {
    "slideshow": {
     "slide_type": "slide"
    }
   },
   "outputs": [],
   "source": [
    "regressor_OLS = sm.OLS(endog = y, exog=X_opt).fit()"
   ]
  },
  {
   "cell_type": "code",
   "execution_count": 23,
   "metadata": {
    "slideshow": {
     "slide_type": "fragment"
    }
   },
   "outputs": [
    {
     "data": {
      "text/html": [
       "<table class=\"simpletable\">\n",
       "<caption>OLS Regression Results</caption>\n",
       "<tr>\n",
       "  <th>Dep. Variable:</th>     <td>5Y_Sales_Growth</td> <th>  R-squared:         </th>  <td>   0.094</td>  \n",
       "</tr>\n",
       "<tr>\n",
       "  <th>Model:</th>                   <td>OLS</td>       <th>  Adj. R-squared:    </th>  <td>   0.094</td>  \n",
       "</tr>\n",
       "<tr>\n",
       "  <th>Method:</th>             <td>Least Squares</td>  <th>  F-statistic:       </th>  <td>   208.4</td>  \n",
       "</tr>\n",
       "<tr>\n",
       "  <th>Date:</th>             <td>Mon, 25 Mar 2019</td> <th>  Prob (F-statistic):</th>   <td>  0.00</td>   \n",
       "</tr>\n",
       "<tr>\n",
       "  <th>Time:</th>                 <td>22:22:07</td>     <th>  Log-Likelihood:    </th> <td>-2.7065e+05</td>\n",
       "</tr>\n",
       "<tr>\n",
       "  <th>No. Observations:</th>      <td> 38026</td>      <th>  AIC:               </th>  <td>5.413e+05</td> \n",
       "</tr>\n",
       "<tr>\n",
       "  <th>Df Residuals:</th>          <td> 38006</td>      <th>  BIC:               </th>  <td>5.415e+05</td> \n",
       "</tr>\n",
       "<tr>\n",
       "  <th>Df Model:</th>              <td>    19</td>      <th>                     </th>      <td> </td>     \n",
       "</tr>\n",
       "<tr>\n",
       "  <th>Covariance Type:</th>      <td>nonrobust</td>    <th>                     </th>      <td> </td>     \n",
       "</tr>\n",
       "</table>\n",
       "<table class=\"simpletable\">\n",
       "<tr>\n",
       "                 <td></td>                   <th>coef</th>     <th>std err</th>      <th>t</th>      <th>P>|t|</th>  <th>[0.025</th>    <th>0.975]</th>  \n",
       "</tr>\n",
       "<tr>\n",
       "  <th>Period_YYYYMMDD</th>                <td>    0.0003</td> <td>    0.000</td> <td>    1.126</td> <td> 0.260</td> <td>   -0.000</td> <td>    0.001</td>\n",
       "</tr>\n",
       "<tr>\n",
       "  <th>Universe_Returns_F1W</th>           <td>   -0.0013</td> <td>    0.438</td> <td>   -0.003</td> <td> 0.998</td> <td>   -0.860</td> <td>    0.858</td>\n",
       "</tr>\n",
       "<tr>\n",
       "  <th>Universe_Returns_F4W</th>           <td>   -0.1630</td> <td>    0.274</td> <td>   -0.595</td> <td> 0.552</td> <td>   -0.700</td> <td>    0.374</td>\n",
       "</tr>\n",
       "<tr>\n",
       "  <th>Universe_Returns_F12W</th>          <td>   -1.4184</td> <td>    0.159</td> <td>   -8.908</td> <td> 0.000</td> <td>   -1.730</td> <td>   -1.106</td>\n",
       "</tr>\n",
       "<tr>\n",
       "  <th>Weight</th>                         <td> 1.706e+04</td> <td> 7883.657</td> <td>    2.164</td> <td> 0.031</td> <td> 1604.712</td> <td> 3.25e+04</td>\n",
       "</tr>\n",
       "<tr>\n",
       "  <th>Market_Cap_USD</th>                 <td>   -0.0007</td> <td>    0.000</td> <td>   -2.148</td> <td> 0.032</td> <td>   -0.001</td> <td>-6.11e-05</td>\n",
       "</tr>\n",
       "<tr>\n",
       "  <th>Price_USD</th>                      <td>    0.0166</td> <td>    0.009</td> <td>    1.820</td> <td> 0.069</td> <td>   -0.001</td> <td>    0.035</td>\n",
       "</tr>\n",
       "<tr>\n",
       "  <th>NTM_EP</th>                         <td>-1599.2374</td> <td>   60.742</td> <td>  -26.328</td> <td> 0.000</td> <td>-1718.293</td> <td>-1480.181</td>\n",
       "</tr>\n",
       "<tr>\n",
       "  <th>LTM_ROA</th>                        <td>  -13.3212</td> <td>    0.267</td> <td>  -49.880</td> <td> 0.000</td> <td>  -13.845</td> <td>  -12.798</td>\n",
       "</tr>\n",
       "<tr>\n",
       "  <th>BP</th>                             <td>  -51.2495</td> <td>    6.736</td> <td>   -7.609</td> <td> 0.000</td> <td>  -64.451</td> <td>  -38.048</td>\n",
       "</tr>\n",
       "<tr>\n",
       "  <th>LTM_EP</th>                         <td>  625.6956</td> <td>   33.596</td> <td>   18.624</td> <td> 0.000</td> <td>  559.846</td> <td>  691.545</td>\n",
       "</tr>\n",
       "<tr>\n",
       "  <th>Sector__Communication Services</th> <td>  -52.9032</td> <td>   13.913</td> <td>   -3.802</td> <td> 0.000</td> <td>  -80.173</td> <td>  -25.633</td>\n",
       "</tr>\n",
       "<tr>\n",
       "  <th>Sector__Consumer Discretionary</th> <td>   -4.8772</td> <td>    4.786</td> <td>   -1.019</td> <td> 0.308</td> <td>  -14.257</td> <td>    4.503</td>\n",
       "</tr>\n",
       "<tr>\n",
       "  <th>Sector__Consumer Staples</th>       <td>   -4.2385</td> <td>    7.018</td> <td>   -0.604</td> <td> 0.546</td> <td>  -17.994</td> <td>    9.517</td>\n",
       "</tr>\n",
       "<tr>\n",
       "  <th>Sector__Energy</th>                 <td>  -63.3505</td> <td>    7.134</td> <td>   -8.880</td> <td> 0.000</td> <td>  -77.334</td> <td>  -49.367</td>\n",
       "</tr>\n",
       "<tr>\n",
       "  <th>Sector__Financials</th>             <td>  -35.2017</td> <td>    5.520</td> <td>   -6.378</td> <td> 0.000</td> <td>  -46.020</td> <td>  -24.383</td>\n",
       "</tr>\n",
       "<tr>\n",
       "  <th>Sector__Industrials</th>            <td>  -10.6295</td> <td>    5.005</td> <td>   -2.124</td> <td> 0.034</td> <td>  -20.439</td> <td>   -0.820</td>\n",
       "</tr>\n",
       "<tr>\n",
       "  <th>Sector__Real Estate</th>            <td>  -96.5950</td> <td>    7.370</td> <td>  -13.106</td> <td> 0.000</td> <td> -111.041</td> <td>  -82.149</td>\n",
       "</tr>\n",
       "<tr>\n",
       "  <th>Sector__Utilities</th>              <td>  -66.1345</td> <td>    7.543</td> <td>   -8.768</td> <td> 0.000</td> <td>  -80.919</td> <td>  -51.350</td>\n",
       "</tr>\n",
       "<tr>\n",
       "  <th>constant</th>                       <td>-5019.7657</td> <td> 4640.066</td> <td>   -1.082</td> <td> 0.279</td> <td>-1.41e+04</td> <td> 4074.887</td>\n",
       "</tr>\n",
       "</table>\n",
       "<table class=\"simpletable\">\n",
       "<tr>\n",
       "  <th>Omnibus:</th>       <td>106883.195</td> <th>  Durbin-Watson:     </th>    <td>   2.068</td>   \n",
       "</tr>\n",
       "<tr>\n",
       "  <th>Prob(Omnibus):</th>   <td> 0.000</td>   <th>  Jarque-Bera (JB):  </th> <td>3907049094.716</td>\n",
       "</tr>\n",
       "<tr>\n",
       "  <th>Skew:</th>            <td>37.164</td>   <th>  Prob(JB):          </th>    <td>    0.00</td>   \n",
       "</tr>\n",
       "<tr>\n",
       "  <th>Kurtosis:</th>       <td>1571.566</td>  <th>  Cond. No.          </th>    <td>1.07e+11</td>   \n",
       "</tr>\n",
       "</table><br/><br/>Warnings:<br/>[1] Standard Errors assume that the covariance matrix of the errors is correctly specified.<br/>[2] The condition number is large, 1.07e+11. This might indicate that there are<br/>strong multicollinearity or other numerical problems."
      ],
      "text/plain": [
       "<class 'statsmodels.iolib.summary.Summary'>\n",
       "\"\"\"\n",
       "                            OLS Regression Results                            \n",
       "==============================================================================\n",
       "Dep. Variable:        5Y_Sales_Growth   R-squared:                       0.094\n",
       "Model:                            OLS   Adj. R-squared:                  0.094\n",
       "Method:                 Least Squares   F-statistic:                     208.4\n",
       "Date:                Mon, 25 Mar 2019   Prob (F-statistic):               0.00\n",
       "Time:                        22:22:07   Log-Likelihood:            -2.7065e+05\n",
       "No. Observations:               38026   AIC:                         5.413e+05\n",
       "Df Residuals:                   38006   BIC:                         5.415e+05\n",
       "Df Model:                          19                                         \n",
       "Covariance Type:            nonrobust                                         \n",
       "==================================================================================================\n",
       "                                     coef    std err          t      P>|t|      [0.025      0.975]\n",
       "--------------------------------------------------------------------------------------------------\n",
       "Period_YYYYMMDD                    0.0003      0.000      1.126      0.260      -0.000       0.001\n",
       "Universe_Returns_F1W              -0.0013      0.438     -0.003      0.998      -0.860       0.858\n",
       "Universe_Returns_F4W              -0.1630      0.274     -0.595      0.552      -0.700       0.374\n",
       "Universe_Returns_F12W             -1.4184      0.159     -8.908      0.000      -1.730      -1.106\n",
       "Weight                          1.706e+04   7883.657      2.164      0.031    1604.712    3.25e+04\n",
       "Market_Cap_USD                    -0.0007      0.000     -2.148      0.032      -0.001   -6.11e-05\n",
       "Price_USD                          0.0166      0.009      1.820      0.069      -0.001       0.035\n",
       "NTM_EP                         -1599.2374     60.742    -26.328      0.000   -1718.293   -1480.181\n",
       "LTM_ROA                          -13.3212      0.267    -49.880      0.000     -13.845     -12.798\n",
       "BP                               -51.2495      6.736     -7.609      0.000     -64.451     -38.048\n",
       "LTM_EP                           625.6956     33.596     18.624      0.000     559.846     691.545\n",
       "Sector__Communication Services   -52.9032     13.913     -3.802      0.000     -80.173     -25.633\n",
       "Sector__Consumer Discretionary    -4.8772      4.786     -1.019      0.308     -14.257       4.503\n",
       "Sector__Consumer Staples          -4.2385      7.018     -0.604      0.546     -17.994       9.517\n",
       "Sector__Energy                   -63.3505      7.134     -8.880      0.000     -77.334     -49.367\n",
       "Sector__Financials               -35.2017      5.520     -6.378      0.000     -46.020     -24.383\n",
       "Sector__Industrials              -10.6295      5.005     -2.124      0.034     -20.439      -0.820\n",
       "Sector__Real Estate              -96.5950      7.370    -13.106      0.000    -111.041     -82.149\n",
       "Sector__Utilities                -66.1345      7.543     -8.768      0.000     -80.919     -51.350\n",
       "constant                       -5019.7657   4640.066     -1.082      0.279   -1.41e+04    4074.887\n",
       "==============================================================================\n",
       "Omnibus:                   106883.195   Durbin-Watson:                   2.068\n",
       "Prob(Omnibus):                  0.000   Jarque-Bera (JB):       3907049094.716\n",
       "Skew:                          37.164   Prob(JB):                         0.00\n",
       "Kurtosis:                    1571.566   Cond. No.                     1.07e+11\n",
       "==============================================================================\n",
       "\n",
       "Warnings:\n",
       "[1] Standard Errors assume that the covariance matrix of the errors is correctly specified.\n",
       "[2] The condition number is large, 1.07e+11. This might indicate that there are\n",
       "strong multicollinearity or other numerical problems.\n",
       "\"\"\""
      ]
     },
     "execution_count": 23,
     "metadata": {},
     "output_type": "execute_result"
    }
   ],
   "source": [
    "regressor_OLS.summary()"
   ]
  },
  {
   "cell_type": "code",
   "execution_count": 24,
   "metadata": {
    "slideshow": {
     "slide_type": "slide"
    }
   },
   "outputs": [],
   "source": [
    "X_opt = X_opt.drop('Sector__Communication Services', axis=1)"
   ]
  },
  {
   "cell_type": "code",
   "execution_count": 25,
   "metadata": {
    "slideshow": {
     "slide_type": "fragment"
    }
   },
   "outputs": [
    {
     "data": {
      "text/html": [
       "<div>\n",
       "<style scoped>\n",
       "    .dataframe tbody tr th:only-of-type {\n",
       "        vertical-align: middle;\n",
       "    }\n",
       "\n",
       "    .dataframe tbody tr th {\n",
       "        vertical-align: top;\n",
       "    }\n",
       "\n",
       "    .dataframe thead th {\n",
       "        text-align: right;\n",
       "    }\n",
       "</style>\n",
       "<table border=\"1\" class=\"dataframe\">\n",
       "  <thead>\n",
       "    <tr style=\"text-align: right;\">\n",
       "      <th></th>\n",
       "      <th>Period_YYYYMMDD</th>\n",
       "      <th>Universe_Returns_F1W</th>\n",
       "      <th>Universe_Returns_F4W</th>\n",
       "      <th>Universe_Returns_F12W</th>\n",
       "      <th>Weight</th>\n",
       "      <th>Market_Cap_USD</th>\n",
       "      <th>Price_USD</th>\n",
       "      <th>NTM_EP</th>\n",
       "      <th>LTM_ROA</th>\n",
       "      <th>BP</th>\n",
       "      <th>LTM_EP</th>\n",
       "      <th>Sector__Consumer Discretionary</th>\n",
       "      <th>Sector__Consumer Staples</th>\n",
       "      <th>Sector__Energy</th>\n",
       "      <th>Sector__Financials</th>\n",
       "      <th>Sector__Industrials</th>\n",
       "      <th>Sector__Real Estate</th>\n",
       "      <th>Sector__Utilities</th>\n",
       "      <th>constant</th>\n",
       "    </tr>\n",
       "  </thead>\n",
       "  <tbody>\n",
       "    <tr>\n",
       "      <th>0</th>\n",
       "      <td>20141231</td>\n",
       "      <td>-2.517855</td>\n",
       "      <td>-0.121111</td>\n",
       "      <td>4.156041</td>\n",
       "      <td>0.000402</td>\n",
       "      <td>7761.120</td>\n",
       "      <td>78.44</td>\n",
       "      <td>0.044387</td>\n",
       "      <td>9.089989</td>\n",
       "      <td>0.246962</td>\n",
       "      <td>0.042708</td>\n",
       "      <td>0</td>\n",
       "      <td>0</td>\n",
       "      <td>0</td>\n",
       "      <td>0</td>\n",
       "      <td>1</td>\n",
       "      <td>0</td>\n",
       "      <td>0</td>\n",
       "      <td>1</td>\n",
       "    </tr>\n",
       "    <tr>\n",
       "      <th>1</th>\n",
       "      <td>20141231</td>\n",
       "      <td>2.036428</td>\n",
       "      <td>6.307948</td>\n",
       "      <td>-8.426744</td>\n",
       "      <td>0.000422</td>\n",
       "      <td>8151.001</td>\n",
       "      <td>60.40</td>\n",
       "      <td>0.061397</td>\n",
       "      <td>3.472852</td>\n",
       "      <td>0.572871</td>\n",
       "      <td>0.062748</td>\n",
       "      <td>0</td>\n",
       "      <td>0</td>\n",
       "      <td>0</td>\n",
       "      <td>0</td>\n",
       "      <td>0</td>\n",
       "      <td>0</td>\n",
       "      <td>1</td>\n",
       "      <td>1</td>\n",
       "    </tr>\n",
       "    <tr>\n",
       "      <th>2</th>\n",
       "      <td>20141231</td>\n",
       "      <td>-0.396162</td>\n",
       "      <td>-1.283580</td>\n",
       "      <td>-0.753021</td>\n",
       "      <td>0.000563</td>\n",
       "      <td>10883.341</td>\n",
       "      <td>126.21</td>\n",
       "      <td>0.060554</td>\n",
       "      <td>4.744629</td>\n",
       "      <td>0.570099</td>\n",
       "      <td>0.059821</td>\n",
       "      <td>0</td>\n",
       "      <td>0</td>\n",
       "      <td>0</td>\n",
       "      <td>0</td>\n",
       "      <td>1</td>\n",
       "      <td>0</td>\n",
       "      <td>0</td>\n",
       "      <td>1</td>\n",
       "    </tr>\n",
       "    <tr>\n",
       "      <th>3</th>\n",
       "      <td>20141231</td>\n",
       "      <td>-1.973909</td>\n",
       "      <td>1.669562</td>\n",
       "      <td>1.815629</td>\n",
       "      <td>0.005174</td>\n",
       "      <td>99942.990</td>\n",
       "      <td>115.00</td>\n",
       "      <td>0.062889</td>\n",
       "      <td>6.805052</td>\n",
       "      <td>0.325584</td>\n",
       "      <td>0.059088</td>\n",
       "      <td>0</td>\n",
       "      <td>0</td>\n",
       "      <td>0</td>\n",
       "      <td>0</td>\n",
       "      <td>1</td>\n",
       "      <td>0</td>\n",
       "      <td>0</td>\n",
       "      <td>1</td>\n",
       "    </tr>\n",
       "    <tr>\n",
       "      <th>4</th>\n",
       "      <td>20141231</td>\n",
       "      <td>1.118696</td>\n",
       "      <td>7.679176</td>\n",
       "      <td>-6.160975</td>\n",
       "      <td>0.000616</td>\n",
       "      <td>11893.872</td>\n",
       "      <td>52.74</td>\n",
       "      <td>0.051359</td>\n",
       "      <td>4.201019</td>\n",
       "      <td>0.369798</td>\n",
       "      <td>0.050815</td>\n",
       "      <td>0</td>\n",
       "      <td>0</td>\n",
       "      <td>0</td>\n",
       "      <td>0</td>\n",
       "      <td>0</td>\n",
       "      <td>0</td>\n",
       "      <td>1</td>\n",
       "      <td>1</td>\n",
       "    </tr>\n",
       "  </tbody>\n",
       "</table>\n",
       "</div>"
      ],
      "text/plain": [
       "   Period_YYYYMMDD  Universe_Returns_F1W  Universe_Returns_F4W  \\\n",
       "0         20141231             -2.517855             -0.121111   \n",
       "1         20141231              2.036428              6.307948   \n",
       "2         20141231             -0.396162             -1.283580   \n",
       "3         20141231             -1.973909              1.669562   \n",
       "4         20141231              1.118696              7.679176   \n",
       "\n",
       "   Universe_Returns_F12W    Weight  Market_Cap_USD  Price_USD    NTM_EP  \\\n",
       "0               4.156041  0.000402        7761.120      78.44  0.044387   \n",
       "1              -8.426744  0.000422        8151.001      60.40  0.061397   \n",
       "2              -0.753021  0.000563       10883.341     126.21  0.060554   \n",
       "3               1.815629  0.005174       99942.990     115.00  0.062889   \n",
       "4              -6.160975  0.000616       11893.872      52.74  0.051359   \n",
       "\n",
       "    LTM_ROA        BP    LTM_EP  Sector__Consumer Discretionary  \\\n",
       "0  9.089989  0.246962  0.042708                               0   \n",
       "1  3.472852  0.572871  0.062748                               0   \n",
       "2  4.744629  0.570099  0.059821                               0   \n",
       "3  6.805052  0.325584  0.059088                               0   \n",
       "4  4.201019  0.369798  0.050815                               0   \n",
       "\n",
       "   Sector__Consumer Staples  Sector__Energy  Sector__Financials  \\\n",
       "0                         0               0                   0   \n",
       "1                         0               0                   0   \n",
       "2                         0               0                   0   \n",
       "3                         0               0                   0   \n",
       "4                         0               0                   0   \n",
       "\n",
       "   Sector__Industrials  Sector__Real Estate  Sector__Utilities  constant  \n",
       "0                    1                    0                  0         1  \n",
       "1                    0                    0                  1         1  \n",
       "2                    1                    0                  0         1  \n",
       "3                    1                    0                  0         1  \n",
       "4                    0                    0                  1         1  "
      ]
     },
     "execution_count": 25,
     "metadata": {},
     "output_type": "execute_result"
    }
   ],
   "source": [
    "X_opt.head()"
   ]
  },
  {
   "cell_type": "code",
   "execution_count": 26,
   "metadata": {
    "slideshow": {
     "slide_type": "slide"
    }
   },
   "outputs": [
    {
     "data": {
      "text/html": [
       "<table class=\"simpletable\">\n",
       "<caption>OLS Regression Results</caption>\n",
       "<tr>\n",
       "  <th>Dep. Variable:</th>     <td>5Y_Sales_Growth</td> <th>  R-squared:         </th>  <td>   0.094</td>  \n",
       "</tr>\n",
       "<tr>\n",
       "  <th>Model:</th>                   <td>OLS</td>       <th>  Adj. R-squared:    </th>  <td>   0.094</td>  \n",
       "</tr>\n",
       "<tr>\n",
       "  <th>Method:</th>             <td>Least Squares</td>  <th>  F-statistic:       </th>  <td>   219.1</td>  \n",
       "</tr>\n",
       "<tr>\n",
       "  <th>Date:</th>             <td>Mon, 25 Mar 2019</td> <th>  Prob (F-statistic):</th>   <td>  0.00</td>   \n",
       "</tr>\n",
       "<tr>\n",
       "  <th>Time:</th>                 <td>22:22:07</td>     <th>  Log-Likelihood:    </th> <td>-2.7065e+05</td>\n",
       "</tr>\n",
       "<tr>\n",
       "  <th>No. Observations:</th>      <td> 38026</td>      <th>  AIC:               </th>  <td>5.413e+05</td> \n",
       "</tr>\n",
       "<tr>\n",
       "  <th>Df Residuals:</th>          <td> 38007</td>      <th>  BIC:               </th>  <td>5.415e+05</td> \n",
       "</tr>\n",
       "<tr>\n",
       "  <th>Df Model:</th>              <td>    18</td>      <th>                     </th>      <td> </td>     \n",
       "</tr>\n",
       "<tr>\n",
       "  <th>Covariance Type:</th>      <td>nonrobust</td>    <th>                     </th>      <td> </td>     \n",
       "</tr>\n",
       "</table>\n",
       "<table class=\"simpletable\">\n",
       "<tr>\n",
       "                 <td></td>                   <th>coef</th>     <th>std err</th>      <th>t</th>      <th>P>|t|</th>  <th>[0.025</th>    <th>0.975]</th>  \n",
       "</tr>\n",
       "<tr>\n",
       "  <th>Period_YYYYMMDD</th>                <td>    0.0002</td> <td>    0.000</td> <td>    1.032</td> <td> 0.302</td> <td>   -0.000</td> <td>    0.001</td>\n",
       "</tr>\n",
       "<tr>\n",
       "  <th>Universe_Returns_F1W</th>           <td>    0.0158</td> <td>    0.438</td> <td>    0.036</td> <td> 0.971</td> <td>   -0.843</td> <td>    0.875</td>\n",
       "</tr>\n",
       "<tr>\n",
       "  <th>Universe_Returns_F4W</th>           <td>   -0.1671</td> <td>    0.274</td> <td>   -0.610</td> <td> 0.542</td> <td>   -0.704</td> <td>    0.370</td>\n",
       "</tr>\n",
       "<tr>\n",
       "  <th>Universe_Returns_F12W</th>          <td>   -1.4205</td> <td>    0.159</td> <td>   -8.919</td> <td> 0.000</td> <td>   -1.733</td> <td>   -1.108</td>\n",
       "</tr>\n",
       "<tr>\n",
       "  <th>Weight</th>                         <td> 1.603e+04</td> <td> 7880.381</td> <td>    2.034</td> <td> 0.042</td> <td>  579.376</td> <td> 3.15e+04</td>\n",
       "</tr>\n",
       "<tr>\n",
       "  <th>Market_Cap_USD</th>                 <td>   -0.0007</td> <td>    0.000</td> <td>   -2.031</td> <td> 0.042</td> <td>   -0.001</td> <td>-2.31e-05</td>\n",
       "</tr>\n",
       "<tr>\n",
       "  <th>Price_USD</th>                      <td>    0.0179</td> <td>    0.009</td> <td>    1.955</td> <td> 0.051</td> <td>-4.76e-05</td> <td>    0.036</td>\n",
       "</tr>\n",
       "<tr>\n",
       "  <th>NTM_EP</th>                         <td>-1571.1215</td> <td>   60.301</td> <td>  -26.055</td> <td> 0.000</td> <td>-1689.313</td> <td>-1452.930</td>\n",
       "</tr>\n",
       "<tr>\n",
       "  <th>LTM_ROA</th>                        <td>  -13.2985</td> <td>    0.267</td> <td>  -49.798</td> <td> 0.000</td> <td>  -13.822</td> <td>  -12.775</td>\n",
       "</tr>\n",
       "<tr>\n",
       "  <th>BP</th>                             <td>  -54.9578</td> <td>    6.666</td> <td>   -8.245</td> <td> 0.000</td> <td>  -68.023</td> <td>  -41.893</td>\n",
       "</tr>\n",
       "<tr>\n",
       "  <th>LTM_EP</th>                         <td>  607.9048</td> <td>   33.275</td> <td>   18.269</td> <td> 0.000</td> <td>  542.686</td> <td>  673.124</td>\n",
       "</tr>\n",
       "<tr>\n",
       "  <th>Sector__Consumer Discretionary</th> <td>   -2.7589</td> <td>    4.754</td> <td>   -0.580</td> <td> 0.562</td> <td>  -12.077</td> <td>    6.559</td>\n",
       "</tr>\n",
       "<tr>\n",
       "  <th>Sector__Consumer Staples</th>       <td>   -1.7709</td> <td>    6.989</td> <td>   -0.253</td> <td> 0.800</td> <td>  -15.470</td> <td>   11.928</td>\n",
       "</tr>\n",
       "<tr>\n",
       "  <th>Sector__Energy</th>                 <td>  -60.2747</td> <td>    7.090</td> <td>   -8.502</td> <td> 0.000</td> <td>  -74.171</td> <td>  -46.379</td>\n",
       "</tr>\n",
       "<tr>\n",
       "  <th>Sector__Financials</th>             <td>  -31.7118</td> <td>    5.444</td> <td>   -5.825</td> <td> 0.000</td> <td>  -42.382</td> <td>  -21.042</td>\n",
       "</tr>\n",
       "<tr>\n",
       "  <th>Sector__Industrials</th>            <td>   -8.5187</td> <td>    4.975</td> <td>   -1.712</td> <td> 0.087</td> <td>  -18.270</td> <td>    1.232</td>\n",
       "</tr>\n",
       "<tr>\n",
       "  <th>Sector__Real Estate</th>            <td>  -93.1655</td> <td>    7.316</td> <td>  -12.734</td> <td> 0.000</td> <td> -107.505</td> <td>  -78.826</td>\n",
       "</tr>\n",
       "<tr>\n",
       "  <th>Sector__Utilities</th>              <td>  -62.9874</td> <td>    7.499</td> <td>   -8.400</td> <td> 0.000</td> <td>  -77.685</td> <td>  -48.289</td>\n",
       "</tr>\n",
       "<tr>\n",
       "  <th>constant</th>                       <td>-4589.4525</td> <td> 4639.507</td> <td>   -0.989</td> <td> 0.323</td> <td>-1.37e+04</td> <td> 4504.104</td>\n",
       "</tr>\n",
       "</table>\n",
       "<table class=\"simpletable\">\n",
       "<tr>\n",
       "  <th>Omnibus:</th>       <td>106907.722</td> <th>  Durbin-Watson:     </th>    <td>   2.068</td>   \n",
       "</tr>\n",
       "<tr>\n",
       "  <th>Prob(Omnibus):</th>   <td> 0.000</td>   <th>  Jarque-Bera (JB):  </th> <td>3912889564.818</td>\n",
       "</tr>\n",
       "<tr>\n",
       "  <th>Skew:</th>            <td>37.186</td>   <th>  Prob(JB):          </th>    <td>    0.00</td>   \n",
       "</tr>\n",
       "<tr>\n",
       "  <th>Kurtosis:</th>       <td>1572.738</td>  <th>  Cond. No.          </th>    <td>1.07e+11</td>   \n",
       "</tr>\n",
       "</table><br/><br/>Warnings:<br/>[1] Standard Errors assume that the covariance matrix of the errors is correctly specified.<br/>[2] The condition number is large, 1.07e+11. This might indicate that there are<br/>strong multicollinearity or other numerical problems."
      ],
      "text/plain": [
       "<class 'statsmodels.iolib.summary.Summary'>\n",
       "\"\"\"\n",
       "                            OLS Regression Results                            \n",
       "==============================================================================\n",
       "Dep. Variable:        5Y_Sales_Growth   R-squared:                       0.094\n",
       "Model:                            OLS   Adj. R-squared:                  0.094\n",
       "Method:                 Least Squares   F-statistic:                     219.1\n",
       "Date:                Mon, 25 Mar 2019   Prob (F-statistic):               0.00\n",
       "Time:                        22:22:07   Log-Likelihood:            -2.7065e+05\n",
       "No. Observations:               38026   AIC:                         5.413e+05\n",
       "Df Residuals:                   38007   BIC:                         5.415e+05\n",
       "Df Model:                          18                                         \n",
       "Covariance Type:            nonrobust                                         \n",
       "==================================================================================================\n",
       "                                     coef    std err          t      P>|t|      [0.025      0.975]\n",
       "--------------------------------------------------------------------------------------------------\n",
       "Period_YYYYMMDD                    0.0002      0.000      1.032      0.302      -0.000       0.001\n",
       "Universe_Returns_F1W               0.0158      0.438      0.036      0.971      -0.843       0.875\n",
       "Universe_Returns_F4W              -0.1671      0.274     -0.610      0.542      -0.704       0.370\n",
       "Universe_Returns_F12W             -1.4205      0.159     -8.919      0.000      -1.733      -1.108\n",
       "Weight                          1.603e+04   7880.381      2.034      0.042     579.376    3.15e+04\n",
       "Market_Cap_USD                    -0.0007      0.000     -2.031      0.042      -0.001   -2.31e-05\n",
       "Price_USD                          0.0179      0.009      1.955      0.051   -4.76e-05       0.036\n",
       "NTM_EP                         -1571.1215     60.301    -26.055      0.000   -1689.313   -1452.930\n",
       "LTM_ROA                          -13.2985      0.267    -49.798      0.000     -13.822     -12.775\n",
       "BP                               -54.9578      6.666     -8.245      0.000     -68.023     -41.893\n",
       "LTM_EP                           607.9048     33.275     18.269      0.000     542.686     673.124\n",
       "Sector__Consumer Discretionary    -2.7589      4.754     -0.580      0.562     -12.077       6.559\n",
       "Sector__Consumer Staples          -1.7709      6.989     -0.253      0.800     -15.470      11.928\n",
       "Sector__Energy                   -60.2747      7.090     -8.502      0.000     -74.171     -46.379\n",
       "Sector__Financials               -31.7118      5.444     -5.825      0.000     -42.382     -21.042\n",
       "Sector__Industrials               -8.5187      4.975     -1.712      0.087     -18.270       1.232\n",
       "Sector__Real Estate              -93.1655      7.316    -12.734      0.000    -107.505     -78.826\n",
       "Sector__Utilities                -62.9874      7.499     -8.400      0.000     -77.685     -48.289\n",
       "constant                       -4589.4525   4639.507     -0.989      0.323   -1.37e+04    4504.104\n",
       "==============================================================================\n",
       "Omnibus:                   106907.722   Durbin-Watson:                   2.068\n",
       "Prob(Omnibus):                  0.000   Jarque-Bera (JB):       3912889564.818\n",
       "Skew:                          37.186   Prob(JB):                         0.00\n",
       "Kurtosis:                    1572.738   Cond. No.                     1.07e+11\n",
       "==============================================================================\n",
       "\n",
       "Warnings:\n",
       "[1] Standard Errors assume that the covariance matrix of the errors is correctly specified.\n",
       "[2] The condition number is large, 1.07e+11. This might indicate that there are\n",
       "strong multicollinearity or other numerical problems.\n",
       "\"\"\""
      ]
     },
     "execution_count": 26,
     "metadata": {},
     "output_type": "execute_result"
    }
   ],
   "source": [
    "regressor_OLS = sm.OLS(endog = y, exog=X_opt).fit()\n",
    "regressor_OLS.summary()"
   ]
  },
  {
   "cell_type": "code",
   "execution_count": 27,
   "metadata": {
    "slideshow": {
     "slide_type": "slide"
    }
   },
   "outputs": [],
   "source": [
    "X_opt = X_opt.drop('Sector__Consumer Discretionary', axis=1)"
   ]
  },
  {
   "cell_type": "code",
   "execution_count": 28,
   "metadata": {
    "slideshow": {
     "slide_type": "fragment"
    }
   },
   "outputs": [
    {
     "data": {
      "text/html": [
       "<table class=\"simpletable\">\n",
       "<caption>OLS Regression Results</caption>\n",
       "<tr>\n",
       "  <th>Dep. Variable:</th>     <td>5Y_Sales_Growth</td> <th>  R-squared:         </th>  <td>   0.094</td>  \n",
       "</tr>\n",
       "<tr>\n",
       "  <th>Model:</th>                   <td>OLS</td>       <th>  Adj. R-squared:    </th>  <td>   0.094</td>  \n",
       "</tr>\n",
       "<tr>\n",
       "  <th>Method:</th>             <td>Least Squares</td>  <th>  F-statistic:       </th>  <td>   232.0</td>  \n",
       "</tr>\n",
       "<tr>\n",
       "  <th>Date:</th>             <td>Mon, 25 Mar 2019</td> <th>  Prob (F-statistic):</th>   <td>  0.00</td>   \n",
       "</tr>\n",
       "<tr>\n",
       "  <th>Time:</th>                 <td>22:22:07</td>     <th>  Log-Likelihood:    </th> <td>-2.7065e+05</td>\n",
       "</tr>\n",
       "<tr>\n",
       "  <th>No. Observations:</th>      <td> 38026</td>      <th>  AIC:               </th>  <td>5.413e+05</td> \n",
       "</tr>\n",
       "<tr>\n",
       "  <th>Df Residuals:</th>          <td> 38008</td>      <th>  BIC:               </th>  <td>5.415e+05</td> \n",
       "</tr>\n",
       "<tr>\n",
       "  <th>Df Model:</th>              <td>    17</td>      <th>                     </th>      <td> </td>     \n",
       "</tr>\n",
       "<tr>\n",
       "  <th>Covariance Type:</th>      <td>nonrobust</td>    <th>                     </th>      <td> </td>     \n",
       "</tr>\n",
       "</table>\n",
       "<table class=\"simpletable\">\n",
       "<tr>\n",
       "              <td></td>                <th>coef</th>     <th>std err</th>      <th>t</th>      <th>P>|t|</th>  <th>[0.025</th>    <th>0.975]</th>  \n",
       "</tr>\n",
       "<tr>\n",
       "  <th>Period_YYYYMMDD</th>          <td>    0.0002</td> <td>    0.000</td> <td>    1.045</td> <td> 0.296</td> <td>   -0.000</td> <td>    0.001</td>\n",
       "</tr>\n",
       "<tr>\n",
       "  <th>Universe_Returns_F1W</th>     <td>    0.0140</td> <td>    0.438</td> <td>    0.032</td> <td> 0.975</td> <td>   -0.845</td> <td>    0.873</td>\n",
       "</tr>\n",
       "<tr>\n",
       "  <th>Universe_Returns_F4W</th>     <td>   -0.1669</td> <td>    0.274</td> <td>   -0.609</td> <td> 0.542</td> <td>   -0.704</td> <td>    0.370</td>\n",
       "</tr>\n",
       "<tr>\n",
       "  <th>Universe_Returns_F12W</th>    <td>   -1.4190</td> <td>    0.159</td> <td>   -8.911</td> <td> 0.000</td> <td>   -1.731</td> <td>   -1.107</td>\n",
       "</tr>\n",
       "<tr>\n",
       "  <th>Weight</th>                   <td> 1.609e+04</td> <td> 7879.630</td> <td>    2.041</td> <td> 0.041</td> <td>  641.033</td> <td> 3.15e+04</td>\n",
       "</tr>\n",
       "<tr>\n",
       "  <th>Market_Cap_USD</th>           <td>   -0.0007</td> <td>    0.000</td> <td>   -2.034</td> <td> 0.042</td> <td>   -0.001</td> <td>-2.42e-05</td>\n",
       "</tr>\n",
       "<tr>\n",
       "  <th>Price_USD</th>                <td>    0.0174</td> <td>    0.009</td> <td>    1.911</td> <td> 0.056</td> <td>   -0.000</td> <td>    0.035</td>\n",
       "</tr>\n",
       "<tr>\n",
       "  <th>NTM_EP</th>                   <td>-1572.1793</td> <td>   60.273</td> <td>  -26.084</td> <td> 0.000</td> <td>-1690.316</td> <td>-1454.043</td>\n",
       "</tr>\n",
       "<tr>\n",
       "  <th>LTM_ROA</th>                  <td>  -13.3084</td> <td>    0.266</td> <td>  -49.938</td> <td> 0.000</td> <td>  -13.831</td> <td>  -12.786</td>\n",
       "</tr>\n",
       "<tr>\n",
       "  <th>BP</th>                       <td>  -55.1263</td> <td>    6.659</td> <td>   -8.278</td> <td> 0.000</td> <td>  -68.179</td> <td>  -42.074</td>\n",
       "</tr>\n",
       "<tr>\n",
       "  <th>LTM_EP</th>                   <td>  607.3862</td> <td>   33.262</td> <td>   18.260</td> <td> 0.000</td> <td>  542.191</td> <td>  672.581</td>\n",
       "</tr>\n",
       "<tr>\n",
       "  <th>Sector__Consumer Staples</th> <td>   -0.8761</td> <td>    6.817</td> <td>   -0.129</td> <td> 0.898</td> <td>  -14.237</td> <td>   12.485</td>\n",
       "</tr>\n",
       "<tr>\n",
       "  <th>Sector__Energy</th>           <td>  -59.4253</td> <td>    6.937</td> <td>   -8.567</td> <td> 0.000</td> <td>  -73.022</td> <td>  -45.829</td>\n",
       "</tr>\n",
       "<tr>\n",
       "  <th>Sector__Financials</th>       <td>  -30.7602</td> <td>    5.191</td> <td>   -5.926</td> <td> 0.000</td> <td>  -40.935</td> <td>  -20.586</td>\n",
       "</tr>\n",
       "<tr>\n",
       "  <th>Sector__Industrials</th>      <td>   -7.5925</td> <td>    4.712</td> <td>   -1.611</td> <td> 0.107</td> <td>  -16.828</td> <td>    1.643</td>\n",
       "</tr>\n",
       "<tr>\n",
       "  <th>Sector__Real Estate</th>      <td>  -92.3159</td> <td>    7.168</td> <td>  -12.879</td> <td> 0.000</td> <td> -106.366</td> <td>  -78.266</td>\n",
       "</tr>\n",
       "<tr>\n",
       "  <th>Sector__Utilities</th>        <td>  -62.1009</td> <td>    7.342</td> <td>   -8.459</td> <td> 0.000</td> <td>  -76.491</td> <td>  -47.711</td>\n",
       "</tr>\n",
       "<tr>\n",
       "  <th>constant</th>                 <td>-4647.8011</td> <td> 4638.377</td> <td>   -1.002</td> <td> 0.316</td> <td>-1.37e+04</td> <td> 4443.541</td>\n",
       "</tr>\n",
       "</table>\n",
       "<table class=\"simpletable\">\n",
       "<tr>\n",
       "  <th>Omnibus:</th>       <td>106906.878</td> <th>  Durbin-Watson:     </th>    <td>   2.068</td>   \n",
       "</tr>\n",
       "<tr>\n",
       "  <th>Prob(Omnibus):</th>   <td> 0.000</td>   <th>  Jarque-Bera (JB):  </th> <td>3912662098.231</td>\n",
       "</tr>\n",
       "<tr>\n",
       "  <th>Skew:</th>            <td>37.186</td>   <th>  Prob(JB):          </th>    <td>    0.00</td>   \n",
       "</tr>\n",
       "<tr>\n",
       "  <th>Kurtosis:</th>       <td>1572.692</td>  <th>  Cond. No.          </th>    <td>1.07e+11</td>   \n",
       "</tr>\n",
       "</table><br/><br/>Warnings:<br/>[1] Standard Errors assume that the covariance matrix of the errors is correctly specified.<br/>[2] The condition number is large, 1.07e+11. This might indicate that there are<br/>strong multicollinearity or other numerical problems."
      ],
      "text/plain": [
       "<class 'statsmodels.iolib.summary.Summary'>\n",
       "\"\"\"\n",
       "                            OLS Regression Results                            \n",
       "==============================================================================\n",
       "Dep. Variable:        5Y_Sales_Growth   R-squared:                       0.094\n",
       "Model:                            OLS   Adj. R-squared:                  0.094\n",
       "Method:                 Least Squares   F-statistic:                     232.0\n",
       "Date:                Mon, 25 Mar 2019   Prob (F-statistic):               0.00\n",
       "Time:                        22:22:07   Log-Likelihood:            -2.7065e+05\n",
       "No. Observations:               38026   AIC:                         5.413e+05\n",
       "Df Residuals:                   38008   BIC:                         5.415e+05\n",
       "Df Model:                          17                                         \n",
       "Covariance Type:            nonrobust                                         \n",
       "============================================================================================\n",
       "                               coef    std err          t      P>|t|      [0.025      0.975]\n",
       "--------------------------------------------------------------------------------------------\n",
       "Period_YYYYMMDD              0.0002      0.000      1.045      0.296      -0.000       0.001\n",
       "Universe_Returns_F1W         0.0140      0.438      0.032      0.975      -0.845       0.873\n",
       "Universe_Returns_F4W        -0.1669      0.274     -0.609      0.542      -0.704       0.370\n",
       "Universe_Returns_F12W       -1.4190      0.159     -8.911      0.000      -1.731      -1.107\n",
       "Weight                    1.609e+04   7879.630      2.041      0.041     641.033    3.15e+04\n",
       "Market_Cap_USD              -0.0007      0.000     -2.034      0.042      -0.001   -2.42e-05\n",
       "Price_USD                    0.0174      0.009      1.911      0.056      -0.000       0.035\n",
       "NTM_EP                   -1572.1793     60.273    -26.084      0.000   -1690.316   -1454.043\n",
       "LTM_ROA                    -13.3084      0.266    -49.938      0.000     -13.831     -12.786\n",
       "BP                         -55.1263      6.659     -8.278      0.000     -68.179     -42.074\n",
       "LTM_EP                     607.3862     33.262     18.260      0.000     542.191     672.581\n",
       "Sector__Consumer Staples    -0.8761      6.817     -0.129      0.898     -14.237      12.485\n",
       "Sector__Energy             -59.4253      6.937     -8.567      0.000     -73.022     -45.829\n",
       "Sector__Financials         -30.7602      5.191     -5.926      0.000     -40.935     -20.586\n",
       "Sector__Industrials         -7.5925      4.712     -1.611      0.107     -16.828       1.643\n",
       "Sector__Real Estate        -92.3159      7.168    -12.879      0.000    -106.366     -78.266\n",
       "Sector__Utilities          -62.1009      7.342     -8.459      0.000     -76.491     -47.711\n",
       "constant                 -4647.8011   4638.377     -1.002      0.316   -1.37e+04    4443.541\n",
       "==============================================================================\n",
       "Omnibus:                   106906.878   Durbin-Watson:                   2.068\n",
       "Prob(Omnibus):                  0.000   Jarque-Bera (JB):       3912662098.231\n",
       "Skew:                          37.186   Prob(JB):                         0.00\n",
       "Kurtosis:                    1572.692   Cond. No.                     1.07e+11\n",
       "==============================================================================\n",
       "\n",
       "Warnings:\n",
       "[1] Standard Errors assume that the covariance matrix of the errors is correctly specified.\n",
       "[2] The condition number is large, 1.07e+11. This might indicate that there are\n",
       "strong multicollinearity or other numerical problems.\n",
       "\"\"\""
      ]
     },
     "execution_count": 28,
     "metadata": {},
     "output_type": "execute_result"
    }
   ],
   "source": [
    "regressor_OLS = sm.OLS(endog = y, exog=X_opt).fit()\n",
    "regressor_OLS.summary()"
   ]
  },
  {
   "cell_type": "code",
   "execution_count": 29,
   "metadata": {
    "slideshow": {
     "slide_type": "slide"
    }
   },
   "outputs": [
    {
     "data": {
      "text/html": [
       "<table class=\"simpletable\">\n",
       "<caption>OLS Regression Results</caption>\n",
       "<tr>\n",
       "  <th>Dep. Variable:</th>     <td>5Y_Sales_Growth</td> <th>  R-squared:         </th>  <td>   0.094</td>  \n",
       "</tr>\n",
       "<tr>\n",
       "  <th>Model:</th>                   <td>OLS</td>       <th>  Adj. R-squared:    </th>  <td>   0.094</td>  \n",
       "</tr>\n",
       "<tr>\n",
       "  <th>Method:</th>             <td>Least Squares</td>  <th>  F-statistic:       </th>  <td>   246.4</td>  \n",
       "</tr>\n",
       "<tr>\n",
       "  <th>Date:</th>             <td>Mon, 25 Mar 2019</td> <th>  Prob (F-statistic):</th>   <td>  0.00</td>   \n",
       "</tr>\n",
       "<tr>\n",
       "  <th>Time:</th>                 <td>22:22:07</td>     <th>  Log-Likelihood:    </th> <td>-2.7065e+05</td>\n",
       "</tr>\n",
       "<tr>\n",
       "  <th>No. Observations:</th>      <td> 38026</td>      <th>  AIC:               </th>  <td>5.413e+05</td> \n",
       "</tr>\n",
       "<tr>\n",
       "  <th>Df Residuals:</th>          <td> 38009</td>      <th>  BIC:               </th>  <td>5.415e+05</td> \n",
       "</tr>\n",
       "<tr>\n",
       "  <th>Df Model:</th>              <td>    16</td>      <th>                     </th>      <td> </td>     \n",
       "</tr>\n",
       "<tr>\n",
       "  <th>Covariance Type:</th>      <td>nonrobust</td>    <th>                     </th>      <td> </td>     \n",
       "</tr>\n",
       "</table>\n",
       "<table class=\"simpletable\">\n",
       "<tr>\n",
       "              <td></td>                <th>coef</th>     <th>std err</th>      <th>t</th>      <th>P>|t|</th>  <th>[0.025</th>    <th>0.975]</th>  \n",
       "</tr>\n",
       "<tr>\n",
       "  <th>Universe_Returns_F1W</th>     <td>   -0.0040</td> <td>    0.438</td> <td>   -0.009</td> <td> 0.993</td> <td>   -0.862</td> <td>    0.854</td>\n",
       "</tr>\n",
       "<tr>\n",
       "  <th>Universe_Returns_F4W</th>     <td>   -0.1732</td> <td>    0.274</td> <td>   -0.633</td> <td> 0.527</td> <td>   -0.710</td> <td>    0.363</td>\n",
       "</tr>\n",
       "<tr>\n",
       "  <th>Universe_Returns_F12W</th>    <td>   -1.4264</td> <td>    0.159</td> <td>   -8.966</td> <td> 0.000</td> <td>   -1.738</td> <td>   -1.115</td>\n",
       "</tr>\n",
       "<tr>\n",
       "  <th>Weight</th>                   <td> 1.295e+04</td> <td> 7284.983</td> <td>    1.777</td> <td> 0.076</td> <td>-1332.036</td> <td> 2.72e+04</td>\n",
       "</tr>\n",
       "<tr>\n",
       "  <th>Market_Cap_USD</th>           <td>   -0.0005</td> <td>    0.000</td> <td>   -1.769</td> <td> 0.077</td> <td>   -0.001</td> <td> 5.74e-05</td>\n",
       "</tr>\n",
       "<tr>\n",
       "  <th>Price_USD</th>                <td>    0.0177</td> <td>    0.009</td> <td>    1.943</td> <td> 0.052</td> <td>   -0.000</td> <td>    0.036</td>\n",
       "</tr>\n",
       "<tr>\n",
       "  <th>NTM_EP</th>                   <td>-1567.4707</td> <td>   60.104</td> <td>  -26.079</td> <td> 0.000</td> <td>-1685.277</td> <td>-1449.665</td>\n",
       "</tr>\n",
       "<tr>\n",
       "  <th>LTM_ROA</th>                  <td>  -13.3122</td> <td>    0.266</td> <td>  -49.956</td> <td> 0.000</td> <td>  -13.834</td> <td>  -12.790</td>\n",
       "</tr>\n",
       "<tr>\n",
       "  <th>BP</th>                       <td>  -55.3960</td> <td>    6.654</td> <td>   -8.325</td> <td> 0.000</td> <td>  -68.439</td> <td>  -42.353</td>\n",
       "</tr>\n",
       "<tr>\n",
       "  <th>LTM_EP</th>                   <td>  607.7318</td> <td>   33.261</td> <td>   18.272</td> <td> 0.000</td> <td>  542.540</td> <td>  672.924</td>\n",
       "</tr>\n",
       "<tr>\n",
       "  <th>Sector__Consumer Staples</th> <td>   -0.9048</td> <td>    6.817</td> <td>   -0.133</td> <td> 0.894</td> <td>  -14.266</td> <td>   12.456</td>\n",
       "</tr>\n",
       "<tr>\n",
       "  <th>Sector__Energy</th>           <td>  -59.4042</td> <td>    6.937</td> <td>   -8.564</td> <td> 0.000</td> <td>  -73.001</td> <td>  -45.808</td>\n",
       "</tr>\n",
       "<tr>\n",
       "  <th>Sector__Financials</th>       <td>  -30.8613</td> <td>    5.190</td> <td>   -5.946</td> <td> 0.000</td> <td>  -41.034</td> <td>  -20.689</td>\n",
       "</tr>\n",
       "<tr>\n",
       "  <th>Sector__Industrials</th>      <td>   -7.5489</td> <td>    4.712</td> <td>   -1.602</td> <td> 0.109</td> <td>  -16.784</td> <td>    1.686</td>\n",
       "</tr>\n",
       "<tr>\n",
       "  <th>Sector__Real Estate</th>      <td>  -91.8029</td> <td>    7.151</td> <td>  -12.837</td> <td> 0.000</td> <td> -105.820</td> <td>  -77.786</td>\n",
       "</tr>\n",
       "<tr>\n",
       "  <th>Sector__Utilities</th>        <td>  -62.0061</td> <td>    7.341</td> <td>   -8.446</td> <td> 0.000</td> <td>  -76.395</td> <td>  -47.617</td>\n",
       "</tr>\n",
       "<tr>\n",
       "  <th>constant</th>                 <td>  200.0859</td> <td>    4.418</td> <td>   45.290</td> <td> 0.000</td> <td>  191.427</td> <td>  208.745</td>\n",
       "</tr>\n",
       "</table>\n",
       "<table class=\"simpletable\">\n",
       "<tr>\n",
       "  <th>Omnibus:</th>       <td>106908.630</td> <th>  Durbin-Watson:     </th>    <td>   2.068</td>   \n",
       "</tr>\n",
       "<tr>\n",
       "  <th>Prob(Omnibus):</th>   <td> 0.000</td>   <th>  Jarque-Bera (JB):  </th> <td>3913004113.936</td>\n",
       "</tr>\n",
       "<tr>\n",
       "  <th>Skew:</th>            <td>37.187</td>   <th>  Prob(JB):          </th>    <td>    0.00</td>   \n",
       "</tr>\n",
       "<tr>\n",
       "  <th>Kurtosis:</th>       <td>1572.761</td>  <th>  Cond. No.          </th>    <td>3.97e+08</td>   \n",
       "</tr>\n",
       "</table><br/><br/>Warnings:<br/>[1] Standard Errors assume that the covariance matrix of the errors is correctly specified.<br/>[2] The condition number is large, 3.97e+08. This might indicate that there are<br/>strong multicollinearity or other numerical problems."
      ],
      "text/plain": [
       "<class 'statsmodels.iolib.summary.Summary'>\n",
       "\"\"\"\n",
       "                            OLS Regression Results                            \n",
       "==============================================================================\n",
       "Dep. Variable:        5Y_Sales_Growth   R-squared:                       0.094\n",
       "Model:                            OLS   Adj. R-squared:                  0.094\n",
       "Method:                 Least Squares   F-statistic:                     246.4\n",
       "Date:                Mon, 25 Mar 2019   Prob (F-statistic):               0.00\n",
       "Time:                        22:22:07   Log-Likelihood:            -2.7065e+05\n",
       "No. Observations:               38026   AIC:                         5.413e+05\n",
       "Df Residuals:                   38009   BIC:                         5.415e+05\n",
       "Df Model:                          16                                         \n",
       "Covariance Type:            nonrobust                                         \n",
       "============================================================================================\n",
       "                               coef    std err          t      P>|t|      [0.025      0.975]\n",
       "--------------------------------------------------------------------------------------------\n",
       "Universe_Returns_F1W        -0.0040      0.438     -0.009      0.993      -0.862       0.854\n",
       "Universe_Returns_F4W        -0.1732      0.274     -0.633      0.527      -0.710       0.363\n",
       "Universe_Returns_F12W       -1.4264      0.159     -8.966      0.000      -1.738      -1.115\n",
       "Weight                    1.295e+04   7284.983      1.777      0.076   -1332.036    2.72e+04\n",
       "Market_Cap_USD              -0.0005      0.000     -1.769      0.077      -0.001    5.74e-05\n",
       "Price_USD                    0.0177      0.009      1.943      0.052      -0.000       0.036\n",
       "NTM_EP                   -1567.4707     60.104    -26.079      0.000   -1685.277   -1449.665\n",
       "LTM_ROA                    -13.3122      0.266    -49.956      0.000     -13.834     -12.790\n",
       "BP                         -55.3960      6.654     -8.325      0.000     -68.439     -42.353\n",
       "LTM_EP                     607.7318     33.261     18.272      0.000     542.540     672.924\n",
       "Sector__Consumer Staples    -0.9048      6.817     -0.133      0.894     -14.266      12.456\n",
       "Sector__Energy             -59.4042      6.937     -8.564      0.000     -73.001     -45.808\n",
       "Sector__Financials         -30.8613      5.190     -5.946      0.000     -41.034     -20.689\n",
       "Sector__Industrials         -7.5489      4.712     -1.602      0.109     -16.784       1.686\n",
       "Sector__Real Estate        -91.8029      7.151    -12.837      0.000    -105.820     -77.786\n",
       "Sector__Utilities          -62.0061      7.341     -8.446      0.000     -76.395     -47.617\n",
       "constant                   200.0859      4.418     45.290      0.000     191.427     208.745\n",
       "==============================================================================\n",
       "Omnibus:                   106908.630   Durbin-Watson:                   2.068\n",
       "Prob(Omnibus):                  0.000   Jarque-Bera (JB):       3913004113.936\n",
       "Skew:                          37.187   Prob(JB):                         0.00\n",
       "Kurtosis:                    1572.761   Cond. No.                     3.97e+08\n",
       "==============================================================================\n",
       "\n",
       "Warnings:\n",
       "[1] Standard Errors assume that the covariance matrix of the errors is correctly specified.\n",
       "[2] The condition number is large, 3.97e+08. This might indicate that there are\n",
       "strong multicollinearity or other numerical problems.\n",
       "\"\"\""
      ]
     },
     "execution_count": 29,
     "metadata": {},
     "output_type": "execute_result"
    }
   ],
   "source": [
    "X_opt = X_opt.drop('Period_YYYYMMDD', axis=1)\n",
    "regressor_OLS = sm.OLS(endog = y, exog=X_opt).fit()\n",
    "regressor_OLS.summary()"
   ]
  },
  {
   "cell_type": "code",
   "execution_count": 30,
   "metadata": {
    "slideshow": {
     "slide_type": "slide"
    }
   },
   "outputs": [
    {
     "data": {
      "text/html": [
       "<table class=\"simpletable\">\n",
       "<caption>OLS Regression Results</caption>\n",
       "<tr>\n",
       "  <th>Dep. Variable:</th>     <td>5Y_Sales_Growth</td> <th>  R-squared:         </th>  <td>   0.007</td>  \n",
       "</tr>\n",
       "<tr>\n",
       "  <th>Model:</th>                   <td>OLS</td>       <th>  Adj. R-squared:    </th>  <td>   0.007</td>  \n",
       "</tr>\n",
       "<tr>\n",
       "  <th>Method:</th>             <td>Least Squares</td>  <th>  F-statistic:       </th>  <td>   127.4</td>  \n",
       "</tr>\n",
       "<tr>\n",
       "  <th>Date:</th>             <td>Mon, 25 Mar 2019</td> <th>  Prob (F-statistic):</th>  <td>7.40e-56</td>  \n",
       "</tr>\n",
       "<tr>\n",
       "  <th>Time:</th>                 <td>22:22:07</td>     <th>  Log-Likelihood:    </th> <td>-2.7240e+05</td>\n",
       "</tr>\n",
       "<tr>\n",
       "  <th>No. Observations:</th>      <td> 38026</td>      <th>  AIC:               </th>  <td>5.448e+05</td> \n",
       "</tr>\n",
       "<tr>\n",
       "  <th>Df Residuals:</th>          <td> 38023</td>      <th>  BIC:               </th>  <td>5.448e+05</td> \n",
       "</tr>\n",
       "<tr>\n",
       "  <th>Df Model:</th>              <td>     2</td>      <th>                     </th>      <td> </td>     \n",
       "</tr>\n",
       "<tr>\n",
       "  <th>Covariance Type:</th>      <td>nonrobust</td>    <th>                     </th>      <td> </td>     \n",
       "</tr>\n",
       "</table>\n",
       "<table class=\"simpletable\">\n",
       "<tr>\n",
       "      <td></td>         <th>coef</th>     <th>std err</th>      <th>t</th>      <th>P>|t|</th>  <th>[0.025</th>    <th>0.975]</th>  \n",
       "</tr>\n",
       "<tr>\n",
       "  <th>Price_USD</th> <td>   -0.0052</td> <td>    0.009</td> <td>   -0.580</td> <td> 0.562</td> <td>   -0.023</td> <td>    0.012</td>\n",
       "</tr>\n",
       "<tr>\n",
       "  <th>LTM_EP</th>    <td> -453.7344</td> <td>   28.433</td> <td>  -15.958</td> <td> 0.000</td> <td> -509.463</td> <td> -398.005</td>\n",
       "</tr>\n",
       "<tr>\n",
       "  <th>constant</th>  <td>   35.0912</td> <td>    2.204</td> <td>   15.923</td> <td> 0.000</td> <td>   30.772</td> <td>   39.411</td>\n",
       "</tr>\n",
       "</table>\n",
       "<table class=\"simpletable\">\n",
       "<tr>\n",
       "  <th>Omnibus:</th>       <td>111554.125</td> <th>  Durbin-Watson:     </th>    <td>   1.991</td>   \n",
       "</tr>\n",
       "<tr>\n",
       "  <th>Prob(Omnibus):</th>   <td> 0.000</td>   <th>  Jarque-Bera (JB):  </th> <td>5204991163.751</td>\n",
       "</tr>\n",
       "<tr>\n",
       "  <th>Skew:</th>            <td>41.719</td>   <th>  Prob(JB):          </th>    <td>    0.00</td>   \n",
       "</tr>\n",
       "<tr>\n",
       "  <th>Kurtosis:</th>       <td>1813.567</td>  <th>  Cond. No.          </th>    <td>3.74e+03</td>   \n",
       "</tr>\n",
       "</table><br/><br/>Warnings:<br/>[1] Standard Errors assume that the covariance matrix of the errors is correctly specified.<br/>[2] The condition number is large, 3.74e+03. This might indicate that there are<br/>strong multicollinearity or other numerical problems."
      ],
      "text/plain": [
       "<class 'statsmodels.iolib.summary.Summary'>\n",
       "\"\"\"\n",
       "                            OLS Regression Results                            \n",
       "==============================================================================\n",
       "Dep. Variable:        5Y_Sales_Growth   R-squared:                       0.007\n",
       "Model:                            OLS   Adj. R-squared:                  0.007\n",
       "Method:                 Least Squares   F-statistic:                     127.4\n",
       "Date:                Mon, 25 Mar 2019   Prob (F-statistic):           7.40e-56\n",
       "Time:                        22:22:07   Log-Likelihood:            -2.7240e+05\n",
       "No. Observations:               38026   AIC:                         5.448e+05\n",
       "Df Residuals:                   38023   BIC:                         5.448e+05\n",
       "Df Model:                           2                                         \n",
       "Covariance Type:            nonrobust                                         \n",
       "==============================================================================\n",
       "                 coef    std err          t      P>|t|      [0.025      0.975]\n",
       "------------------------------------------------------------------------------\n",
       "Price_USD     -0.0052      0.009     -0.580      0.562      -0.023       0.012\n",
       "LTM_EP      -453.7344     28.433    -15.958      0.000    -509.463    -398.005\n",
       "constant      35.0912      2.204     15.923      0.000      30.772      39.411\n",
       "==============================================================================\n",
       "Omnibus:                   111554.125   Durbin-Watson:                   1.991\n",
       "Prob(Omnibus):                  0.000   Jarque-Bera (JB):       5204991163.751\n",
       "Skew:                          41.719   Prob(JB):                         0.00\n",
       "Kurtosis:                    1813.567   Cond. No.                     3.74e+03\n",
       "==============================================================================\n",
       "\n",
       "Warnings:\n",
       "[1] Standard Errors assume that the covariance matrix of the errors is correctly specified.\n",
       "[2] The condition number is large, 3.74e+03. This might indicate that there are\n",
       "strong multicollinearity or other numerical problems.\n",
       "\"\"\""
      ]
     },
     "execution_count": 30,
     "metadata": {},
     "output_type": "execute_result"
    }
   ],
   "source": [
    "X_opt = X_opt[['Price_USD','LTM_EP','constant']]\n",
    "regressor_OLS = sm.OLS(endog = y, exog=X_opt).fit()\n",
    "regressor_OLS.summary()"
   ]
  },
  {
   "cell_type": "markdown",
   "metadata": {
    "slideshow": {
     "slide_type": "slide"
    }
   },
   "source": [
    "let's visualize the results by plotting a simple 3 dimensional model fit:"
   ]
  },
  {
   "cell_type": "code",
   "execution_count": 31,
   "metadata": {
    "slideshow": {
     "slide_type": "slide"
    }
   },
   "outputs": [],
   "source": [
    "from mpl_toolkits.mplot3d import Axes3D\n",
    "\n",
    "x_surf, y_surf = np.meshgrid(np.linspace(X_opt['Price_USD'].min(), X_opt['Price_USD'].max(), 50),np.linspace(X_opt['LTM_EP'].min(), X_opt['LTM_EP'].max(), 50))\n",
    "\n",
    "onlyX = pd.DataFrame({'Price_USD': x_surf.ravel(), 'LTM_EP': y_surf.ravel(), 'constant': np.ones(len(x_surf.ravel()))})\n",
    "fitted = regressor_OLS.predict(onlyX)"
   ]
  },
  {
   "cell_type": "code",
   "execution_count": 32,
   "metadata": {
    "slideshow": {
     "slide_type": "slide"
    }
   },
   "outputs": [
    {
     "data": {
      "image/png": "[encoded data removed]",
      "text/plain": [
       "<Figure size 720x576 with 1 Axes>"
      ]
     },
     "metadata": {},
     "output_type": "display_data"
    }
   ],
   "source": [
    "fig = plt.figure(figsize=(10,8))\n",
    "ax = fig.add_subplot(111, projection='3d')\n",
    "ax.scatter(X_opt['Price_USD'],X_opt['LTM_EP'],y,c='blue', marker='o', alpha=0.5)\n",
    "ax.plot_surface(x_surf,y_surf, fitted.values.reshape(x_surf.shape), alpha=0.2)\n",
    "ax.set_xlabel('Price_USD')\n",
    "ax.set_ylabel('LTM_EP')\n",
    "ax.set_zlabel('Sales Growth')\n",
    "plt.show()"
   ]
  },
  {
   "cell_type": "markdown",
   "metadata": {
    "slideshow": {
     "slide_type": "slide"
    }
   },
   "source": [
    "#### The higher the number of features the less the likelihood of multiple linear regression to predict due to __curse of dimensionality__"
   ]
  },
  {
   "cell_type": "code",
   "execution_count": 33,
   "metadata": {
    "slideshow": {
     "slide_type": "slide"
    }
   },
   "outputs": [],
   "source": [
    "X_opt = X_opt.drop('LTM_EP', axis=1)\n"
   ]
  },
  {
   "cell_type": "code",
   "execution_count": null,
   "metadata": {},
   "outputs": [],
   "source": []
  }
 ],
 "metadata": {
  "celltoolbar": "Slideshow",
  "kernelspec": {
   "display_name": "Python 3",
   "language": "python",
   "name": "python3"
  },
  "language_info": {
   "codemirror_mode": {
    "name": "ipython",
    "version": 3
   },
   "file_extension": ".py",
   "mimetype": "text/x-python",
   "name": "python",
   "nbconvert_exporter": "python",
   "pygments_lexer": "ipython3",
   "version": "3.6.8"
  },
  "latex_envs": {
   "LaTeX_envs_menu_present": true,
   "autoclose": false,
   "autocomplete": true,
   "bibliofile": "biblio.bib",
   "cite_by": "apalike",
   "current_citInitial": 1,
   "eqLabelWithNumbers": true,
   "eqNumInitial": 1,
   "hotkeys": {
    "equation": "Ctrl-E",
    "itemize": "Ctrl-I"
   },
   "labels_anchors": false,
   "latex_user_defs": false,
   "report_style_numbering": false,
   "user_envs_cfg": false
  }
 },
 "nbformat": 4,
 "nbformat_minor": 2
}
